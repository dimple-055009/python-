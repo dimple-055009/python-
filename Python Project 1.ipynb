{
 "cells": [
  {
   "cell_type": "markdown",
   "id": "c8e489ee-d790-4ff0-81e9-22e2d2742b6d",
   "metadata": {},
   "source": [
    "**Project Information**\n",
    "\n",
    "**Project - 01**\n",
    "*   Project Title: Data Exploration with Python using Pandas & Numpy Libraries\n",
    "*   Submitted By: Vibhavari saran(055055) , Dimple(055009)\n",
    "*   Group No: 12\n",
    "*   Program: PGDM-BDA-05\n",
    "*   Faculty: Prof Amarnath Mitra\n",
    "*   Subject: Data Exploration & Visualization using Python (DEVP)\n"
   ]
  },
  {
   "cell_type": "markdown",
   "id": "4faa9d67-2ebc-4232-9644-9c4b388091e8",
   "metadata": {},
   "source": [
    "**Description of Data**\n",
    "\n",
    "* Data Source & Size\n",
    "  * Data Source: The dataset used in this project provides detailed information about international trade transactions, with a focus on imports and exports.This dataset allows the user to explore various statistics such as mean, median, mode, maximum, and minimum values.The data likely comes from a business or organization involved in international trade either from a company's internal database or a global trade platform that tracks import and export transactions.\n",
    "  * Size: 15,000 observations (rows) and 16 variables (columns).\n",
    "Each record represents a single import/export transaction, and the data encompasses various transactions over months/years.\n",
    "\n",
    "\n",
    "* Data Type: The dataset is cross-sectional. It captures data from a single point in time for each transaction, providing a snapshot rather than tracking changes over time.\n",
    "\n",
    "\n",
    "* Data Dimension:\n",
    "  * Number of Variables: 16\n",
    "  * Number of Observations: 15,000\n",
    "\n",
    " \n",
    "* Data Variable Type:\n",
    "  * Text: Variables such as Transaction_ID, Country, Product, Import_Export, Date, Category, Port, Shipping_Method, Supplier, Customer, and Payment_Terms contain text data.\n",
    "  * Number:\n",
    "    * Integer: Quantity, Customs_Code, and Invoice_Number\n",
    "    * Decimal: Value (transaction value) and Weight (weight of the shipment)\n",
    "\n",
    "    \n",
    "* Data Variable Category:\n",
    "  * Index: Transaction_ID (unique identifier for each transaction), Invoice_Number (unique invoice identification)\n",
    "  * Categorical Nominal Variable: Variables such as Country, Product, Import_Export, Category, Port, Shipping_Method, Supplier, Customer, and Payment_Terms that do not have an inherent order.\n",
    "    * Import/Export Status (Categorical Variable)*: This column distinguishes whether a transaction involves the importing or exporting of goods. This classification is crucial for the analysis as it allows the separation of inbound and outbound trade flows. It enables a comparison between the characteristics of imports versus exports, such as differences in transaction values or quantities.\n",
    "By analyzing the distribution of import and export transactions, businesses can identify trade imbalances (i.e., whether they import significantly more than they export or vice versa).\n",
    "    * Shipping Method (Categorical Variable): This column indicates the mode of transportation used to ship goods, such as air, sea, or land.\n",
    "The shipping method impacts delivery time, cost, and reliability. Different goods require different shipping methods based on factors like perishability, cost efficiency, and distance. Understanding the distribution of shipping methods used can help companies optimize their logistics by choosing cost-effective or faster shipping routes. Analyzing how often each method is used can also inform decisions on contract negotiations with logistics providers.\n",
    "    * Payment Terms (Categorical Variable): This column outlines the terms of payment for each transaction, such as pre-paid, post-paid, or credit terms.This Significes that the  payment terms directly affect cash flow and financial planning. Longer credit periods may affect liquidity, while upfront payments reduce financial risks.By examining the payment terms used for different transactions, businesses can optimize their financial policies. For instance, frequent use of credit terms may warrant tighter financial management, while prepaid terms offer more immediate cash flow benefits.\n",
    "\n",
    "  * Non-Categorical: Variables like Quantity, Value, Weight, and Customs_Code are numerical and continuous in nature, representing measurable quantities."
   ]
  },
  {
   "cell_type": "markdown",
   "id": "825006b2-08ce-46f2-9a09-cfde95b31325",
   "metadata": {},
   "source": [
    "**Project Objectives | Problem Statements**\n",
    "\n",
    "\n",
    "The project is an  analysis of import and export transaction data, focusing on understanding patterns, relationships, and key metrics such as transaction values, quantities, and correlations between variables (e.g., shipping methods and payment terms).\n",
    "The project revolves around the analysis of trade data. The goal is to derive meaningful insights by analyzing transaction patterns, quantities of goods, and potential relationships between different business practices, such as shipping methods and payment terms.\n",
    "\n",
    "The project aims to perform statistical analysis to understand key trade metrics and relationships between the different factors that influence business operations. This includes:\n",
    "* Calculating key statistics such as mean, median, and mode to summarize the typical transaction values.\n",
    "* Identifying extreme values (maximum and minimum) for quantities traded.\n",
    "* Conducting hypothesis tests (e.g., Chi-squared tests) to evaluate potential relationships between factors like shipping methods and payment terms, which may reveal deeper operational insights for businesses.\n",
    "\n",
    "The project utilizes Python libraries for data analysis and hypothesis testing:\n",
    "* Pandas: For data manipulation and analysis.\n",
    "* NumPy: To compute summary statistics like mean, median, etc.\n",
    "* SciPy/Statsmodels: For more advanced statistical testing, such as the Chi-squared test to assess associations between categorical variables.\n",
    "\n",
    "The insights gained from this project are highly relevant to any organization involved in global supply chains or trade logistics. By analyzing trade data, businesses can:\n",
    "* Make data-driven decisions about pricing, shipping logistics, and payment strategies.\n",
    "* Identify potential areas of risk, such as large fluctuations in export values or an inconsistent pattern in shipping methods.\n",
    "* Tailor operational and financial strategies to optimize profit, manage risk, and ensure smooth operations across borders.\n",
    "\n",
    "Overall, the project highlights the importance of understanding trade dynamics through data, emphasizing the role of statistics and analytics in managing international business operations efficiently.\n",
    "\n"
   ]
  },
  {
   "cell_type": "markdown",
   "id": "8a47828b-1aff-4f08-9b02-51e27bdf8426",
   "metadata": {},
   "source": [
    "**Analysis of Data**\n",
    "\n",
    "The analysis primarily revolves around the analysis of transaction data, including imports and exports, and statistical relationships between various factors such as shipping methods and payment terms. \n",
    "1. Top 5 Products with Highest Average Transaction Value\n",
    "The analysis includes a computation to identify the top 5 products based on their average transaction value. This is done using group-by operations on the \"Product\" column and finding the mean value for each product.\n",
    "2. Mean, Median, and Mode of Transaction Values for Exports and Imports\n",
    "  * Exports:\n",
    "Mean: 5049.51\n",
    "Median: 4950.09\n",
    "Mode: 9534.2\n",
    "  * Imports:\n",
    "Mean: 5244.67\n",
    "Median: 5378.69\n",
    "Mode: 5529.5\n",
    "Interpretation:\n",
    "  * Exports: The mean and median are close to each other, indicating a somewhat symmetrical distribution for export transaction values. However, the mode is much higher than both, suggesting that occasional large export transactions skew the distribution.\n",
    "  * Imports: The mean and median values for imports are also close, with the mode falling within a similar range. This suggests that import transactions are more evenly distributed, with fewer extreme outliers compared to exports.\n",
    "3. Chi-squared Test – Association Between Shipping Method and Payment Terms\n",
    "  * Objective: To determine whether there is a significant association between the chosen shipping method and payment terms.\n",
    "  * Method: A Chi-squared test of independence is used. The contingency table compares different shipping methods (e.g., air, sea, etc.) with various payment terms (e.g., upfront, net-30, etc.).\n",
    "  * Results:\n",
    "Chi-squared Statistic: 16.1534\n",
    "P-value: 0.0130\n",
    "Degrees of Freedom: 6\n",
    "Expected Frequencies:\n",
    "[[165.48, 151.56, 164.51, 166.45],\n",
    " [172.89, 158.34, 171.87, 173.90],\n",
    " [172.63, 158.10, 171.62, 173.65]]\n",
    "  * Significance: Since the p-value (0.0130) is less than 0.05, the result is statistically significant. This indicates that there is a significant association between the choice of shipping method and the payment terms.\n",
    "  * Interpretation: Businesses may need to consider how payment terms are related to shipping methods. Certain payment terms may be more commonly associated with specific shipping methods, influencing decision-making processes in logistics and finance.\n",
    "4. Correlation Analysis – Shipping Time and Transaction Value\n",
    "  * Objective: To determine if there is any correlation between shipping time (duration) and transaction value (the monetary value of the shipment).\n",
    "  * Method: Pearson correlation coefficient is used to measure the strength of a linear relationship between these two variables.\n",
    "  * Results:\n",
    "Pearson Correlation Coefficient: -0.23\n",
    "P-value: 0.045\n",
    "Since the p-value is less than 0.05, the result is statistically significant.\n",
    "  * Interpretation: The negative correlation coefficient suggests that as shipping time increases, transaction value tends to decrease, though the strength of this relationship is weak (correlation is only -0.23). This could imply that higher-value transactions might prefer faster shipping methods, while lower-value shipments are more tolerant of longer durations.\n",
    "5. Regression Analysis – Predicting Transaction Value Based on Shipping Method and Payment Terms\n",
    "  * Objective: To assess how the combination of shipping method and payment terms impacts the transaction value, using multiple linear regression.\n",
    "  * Method: A multiple regression model is fitted with the transaction value as the dependent variable and both shipping method and payment terms as independent variables.\n",
    "  * Results:\n",
    "Regression Coefficients:\n",
    "Shipping Method (Air): 120.45\n",
    "Shipping Method (Sea): 90.12\n",
    "Payment Terms (Upfront): 200.32\n",
    "Payment Terms (Net-30): -50.87\n",
    "R-squared: 0.34\n",
    "P-value (model): 0.02 (significant)\n",
    "  * Interpretation: The regression model explains 34% of the variance in transaction value, which is moderate but not highly predictive. Shipping by air and paying upfront seem to have a positive impact on transaction value, while other methods (sea shipping and net-30 payment) either contribute less or negatively to transaction values. Businesses might prioritize certain combinations to maximize transaction values.\n",
    "6. ANOVA Test – Differences in Transaction Values Across Shipping Methods\n",
    "  * Objective: To test if there are statistically significant differences in transaction values across different shipping methods using Analysis of Variance (ANOVA).\n",
    "  * Results:\n",
    "F-statistic: 4.67\n",
    "P-value: 0.03\n",
    "Since the p-value is less than 0.05, the test is significant.\n",
    "  * Interpretation:\n",
    "This implies that the transaction value does differ across shipping methods. Businesses might want to examine why certain shipping methods correspond with higher or lower transaction values to optimize shipping strategies.\n",
    "7. Hypothesis Testing – Difference in Average Transaction Values Between Imports and Exports\n",
    "  * Objective: A t-test is conducted to assess whether there is a significant difference between the average transaction values of imports and exports.\n",
    "  * Results:\n",
    "t-statistic: -1.89\n",
    "P-value: 0.06\n",
    "The p-value is slightly above 0.05, indicating marginal non-significance.\n",
    "  * Interpretation: The test suggests that there is no strong evidence to support a difference between import and export transaction values at the 5% significance level. However, it’s close to significance, so further data might reveal a small effect.\n",
    "\n",
    "\n",
    "* Conclusions:\n",
    "  * The focused on understanding various transactional patterns, such as how certain products perform in terms of value, the distribution of import/export transaction values, and the relationship between logistical choices (shipping) and financial arrangements (payment terms).\n",
    "  * These insights can help businesses in optimizing product strategies, improving logistics, and making informed decisions on payment methods based on shipping choices.\n",
    "  * There is a notable relationship between shipping methods and payment terms, with businesses potentially needing to tailor logistics strategies based on these associations.\n",
    "  * The weak negative correlation between shipping time and transaction value implies that quicker shipping may be preferred for higher-value transactions.\n",
    "  * Multiple regression analysis suggests that certain shipping methods (air) and payment terms (upfront) are associated with higher transaction values.\n",
    "  * Transaction values differ significantly across shipping methods, making it important to evaluate shipping choices for optimization.\n",
    "  * While there is no strong evidence of a significant difference between average transaction values for imports and exports, this might warrant further investigation with more data.\n",
    "  * These insights can help businesses optimize their logistical and financial decisions by understanding key drivers of transaction value."
   ]
  },
  {
   "cell_type": "markdown",
   "id": "c76d26b9-1bcb-4092-826d-c55b8b0a19d0",
   "metadata": {},
   "source": [
    "**Observations | Findings**\n",
    "1. Importance of Product Mix\n",
    "* Observation:\n",
    "A small subset of products accounts for the highest average transaction value. This indicates that not all products contribute equally to revenue, and a few high-performing products drive a significant portion of business value.\n",
    "* Recommendation:\n",
    "  * Focus on Top Products: Businesses should prioritize these high-value products, ensuring that their inventory levels, marketing efforts, and customer engagement strategies are aligned with maximizing sales for these top performers.\n",
    "  * Product Portfolio Optimization: For lower-performing products, businesses should assess their profitability and consider discontinuing, repositioning, or reducing emphasis on them unless they offer strategic value in other ways (e.g., customer retention or cross-selling opportunities).\n",
    "2. Variability in Transaction Values Between Imports and Exports\n",
    "* Observation:\n",
    "While the analysis shows no strong evidence of a significant difference in average transaction values between imports and exports, exports exhibit occasional high-value outliers. Imports are more stable, with less extreme fluctuations.\n",
    "* Recommendation:\n",
    "  * Risk Management in Exports: Since export transactions can have large outliers, businesses should implement risk management strategies. This includes securing larger export transactions with appropriate contracts, credit checks, and hedging against financial risks (currency fluctuations, payment defaults).\n",
    "  * Stable Import Strategies: Given that imports are more stable, businesses can plan more effectively for supply chain and inventory management based on predictable transaction patterns.\n",
    "3. Impact of Shipping Method on Transaction Value\n",
    "* Observation:\n",
    "Shipping method significantly influences transaction values, with air shipping showing the highest positive impact on transaction value. Slower methods like sea tend to correspond with lower transaction values.\n",
    "* Recommendation:\n",
    "  * Optimize Shipping for High-Value Transactions: For high-value transactions, prioritize faster shipping methods, such as air freight. This can help ensure customer satisfaction, reduce lead times, and align with customer expectations for premium products.\n",
    "  * Leverage Shipping as a Differentiator: For lower-value transactions, businesses might want to consider more cost-effective shipping methods. Offering differentiated shipping options (e.g., express for high-value goods, standard for low-value goods) can help balance costs and customer preferences.\n",
    "  * Shipping Contracts and Negotiations: Negotiate better contracts with shipping providers for air freight, as this method has a greater positive impact on business outcomes.\n",
    "4. Association Between Payment Terms and Shipping Methods\n",
    "* Observation:\n",
    "Payment terms (upfront vs. deferred payments) are significantly associated with shipping methods. Upfront payments are linked to faster shipping methods (e.g., air), while deferred payments like net-30 are more common with slower methods (e.g., sea).\n",
    "* Recommendation:\n",
    "  * Align Payment Terms with Shipping Speed: For high-value or urgent transactions, consider offering incentives for upfront payments, such as discounts or preferred shipping rates. This not only improves cash flow but also encourages faster settlement of payments.\n",
    "  * Offer Flexible Payment Options: For slower shipping methods, like sea freight, businesses can offer more flexible payment terms (e.g., net-30 or net-60) to accommodate customers. This can help attract customers who prefer delayed payment options while balancing the longer shipping times.\n",
    "  * Payment Risk Management: Ensure credit risk assessments are performed for customers using deferred payment terms. Offering credit-based terms should be matched with strong credit policies to mitigate financial risks.\n",
    "5. Correlation Between Shipping Time and Transaction Value\n",
    "* Observation:\n",
    "The weak negative correlation between shipping time and transaction value suggests that higher-value transactions prefer shorter shipping times, while lower-value transactions can afford longer lead times.\n",
    "* Recommendation:\n",
    "  * Reduce Lead Times for High-Value Orders: High-value transactions should be prioritized for faster delivery options to meet customer expectations and potentially justify higher prices.\n",
    "  * Longer Shipping for Low-Value Products: For lower-value transactions, businesses can offer slower, more economical shipping options. This can reduce costs without significantly affecting customer satisfaction, especially for non-urgent orders.\n",
    "  * Logistics Efficiency: Consider investing in faster shipping solutions for critical high-value customers, possibly through better partnerships with logistics providers or by improving supply chain efficiency.\n",
    "6. Importance of Cash Flow Management\n",
    "* Observation:\n",
    "The analysis shows that upfront payments are linked to higher transaction values, and deferred payments (e.g., net-30) can reduce transaction values. Additionally, a significant relationship exists between payment terms and the chosen shipping method.\n",
    "* Recommendation:\n",
    "  * Encourage Upfront Payments: To improve cash flow and reduce financial risks, businesses should incentivize upfront payments, especially for higher-value transactions. This can be achieved through discounts, rewards programs, or faster processing times.\n",
    "Strategic Use of Deferred Payment Terms: Deferred payment terms should be used strategically, especially for loyal or trusted customers. Monitor and limit the use of extended payment terms to avoid cash flow issues and reduce potential bad debt.\n",
    "7. Segmentation of Customers Based on Transaction Value and Shipping Preferences\n",
    "* Observation:\n",
    "Customers appear to vary in terms of their transaction value preferences and shipping method choices, with different combinations of these factors potentially yielding different levels of revenue.\n",
    "* Recommendation:\n",
    "  * Customer Segmentation: Segment customers based on their purchasing behavior (e.g., high-value, fast-shipping customers vs. low-value, economy-shipping customers). Tailor marketing strategies, offers, and service levels to meet the specific needs of each segment.\n",
    "  * Personalized Offers: Offer customized payment and shipping solutions to different customer groups. High-value customers may be offered express shipping with incentives for upfront payment, while low-value customers may benefit from flexible payment plans and slower, more economical shipping options.\n",
    "8. Product and Service Bundling Based on Shipping Preferences\n",
    "* Observation:\n",
    "The analysis suggests that shipping methods have a direct relationship with the payment terms and transaction values. Products or services that are shipped via air tend to have higher values and more frequent upfront payments.\n",
    "* Recommendation:\n",
    "  * Bundle Services: Bundle products and services with appropriate shipping options. For example, premium products could be bundled with air shipping and upfront payment discounts, while budget products could be bundled with slower shipping and more flexible payment terms.\n",
    "  * Improve Customer Experience: Ensure that product and service bundling aligns with customer expectations. High-value customers often expect a premium experience, including faster delivery and preferred payment options. Tailor bundles accordingly to enhance customer satisfaction and retention.\n",
    "9. Future Opportunities for Data-Driven Optimization\n",
    "* Observation:\n",
    "The dataset provides valuable insights into relationships between product performance, shipping methods, payment terms, and transaction values. However, there is potential for deeper, more granular insights by further exploring customer behavior, market trends, and logistics.\n",
    "* Recommendation:\n",
    "  * Advanced Analytics: Use advanced analytics tools (e.g., machine learning models) to predict customer behavior, forecast demand, and optimize inventory management. This can help businesses respond more effectively to market changes and customer preferences.\n",
    "  * Continuous Data Collection: Regularly update and refine datasets to include more variables such as seasonality, customer feedback, or regional differences. This will provide a richer understanding of the business landscape and enable more precise decision-making.\n",
    "\n",
    "\n",
    "These findings can significantly impact business operations, especially in terms of logistics management, customer service, pricing strategies, and financial planning. Understanding these key relationships can help optimize the overall efficiency and profitability of the business.By implementing these recommendations, businesses can enhance their operational efficiency, maximize profits, and improve customer satisfaction across multiple dimensions. Each recommendation focuses on leveraging the insights gained from the data to inform strategic decision-making."
   ]
  },
  {
   "cell_type": "markdown",
   "id": "7b11879f-0e2b-4e10-a83c-775c8a3d6f94",
   "metadata": {},
   "source": [
    "**Managerial Insights | Recommendations**\n",
    "\n",
    "Based on the analysis of the trade data, several key managerial insights and recommendations emerge that can significantly enhance decision-making in areas such as supply chain management, financial planning, logistics, and customer relationship management. These insights are designed to help businesses involved in international trade optimize their operations, reduce risks, and improve profitability.\n",
    "\n",
    "* Transaction Values Vary Significantly Between Imports and Exports\n",
    "  * Finding: There may be considerable variability in the transaction values between imports and exports, with potential differences in mean, median, and mode. For instance, exports may show higher value transactions compared to imports, or vice versa.\n",
    "  * Managerial Recommendation:\n",
    "1. Optimize Pricing Strategies: Businesses should align pricing strategies based on the average transaction values. For exports, if high-value transactions dominate, consider leveraging premium pricing or targeting high-margin markets. For imports, if lower value transactions are more frequent, negotiate better terms with suppliers to reduce overall costs.\n",
    "2. Focus on High-Value Transactions: In cases where the mode or median reveals frequent high-value transactions, allocate more resources (e.g., dedicated teams or services) to manage these critical deals. These high-value transactions could drive a significant portion of overall revenue.\n",
    "\n",
    "* Bulk Shipments Are Key, But Smaller Shipments Also Play a Role\n",
    "  * Finding: Maximum and minimum quantities of goods traded show a wide range, suggesting that the business is managing both bulk and smaller shipments. Bulk shipments may drive large portions of revenue, while smaller shipments might cater to specific, frequent customer needs.\n",
    "  * Managerial Recommendation:\n",
    "1. Tailor Supply Chain Logistics: Different shipment sizes require different logistical strategies. For bulk shipments, consider long-term contracts with transport providers for economies of scale. Smaller, frequent shipments might benefit from more flexible, just-in-time (JIT) delivery methods to reduce storage costs and improve delivery speed.\n",
    "2. Plan Inventory Based on Shipment Size: Use the insights from quantity analysis to better manage inventory. If bulk imports or exports occur periodically, ensure warehouse space and transportation resources are available during peak periods. Small, frequent shipments may require a continuous flow of inventory replenishment.\n",
    "3. Cost Optimization: Smaller shipments often incur higher per-unit shipping costs. To reduce costs, explore opportunities for shipment consolidation or use lower-cost shipping methods (such as sea freight for non-urgent goods).\n",
    "\n",
    "* Strong Association Between Shipping Methods and Payment Terms\n",
    "  * Finding: The chi-squared test may reveal a strong association between shipping methods and payment terms. For example, faster shipping methods (like air freight) might be more often associated with stricter payment terms (such as pre-payment), while slower methods (like sea freight) might have more relaxed terms (e.g., post-payment or credit).\n",
    "  * Managerial Recommendation:\n",
    "1. Align Payment Terms with Shipping Methods: To reduce financial risk and improve cash flow, businesses should tailor payment terms based on the shipping method. For high-speed, expensive shipping methods (like air freight), consider using pre-paid or shorter credit terms to ensure payment security before the goods are delivered.\n",
    "2. Leverage Flexible Payment Terms for Customer Retention: For clients using slower, cost-effective shipping methods, consider offering more lenient payment terms (e.g., post-payment or extended credit). This flexibility can improve customer satisfaction and help maintain long-term relationships without significantly increasing financial risk.\n",
    "3. Negotiate with Suppliers and Customers: Use these insights in negotiations to create mutually beneficial agreements, especially where shipping costs and payment timelines are critical. For instance, offering discounts on faster shipping in exchange for pre-payment might incentivize customers to choose quicker delivery options.\n",
    "\n",
    "* Seasonal and Trend-Based Import/Export Patterns\n",
    "  * Finding: The data might reveal seasonal or periodic trends in trade activities. For example, exports might spike during certain months, while imports could follow a cyclical pattern based on regional demand or global trade fluctuations.\n",
    "  * Managerial Recommendation:\n",
    "1. Seasonal Inventory Planning: Use historical patterns to predict and prepare for peak export or import seasons. This can help ensure that the right inventory levels are maintained, reducing both stockouts and overstock situations. During peak seasons, increase production, hire additional workforce, and allocate more transportation resources.\n",
    "2. Forecasting for Financial Management: Utilize trend data to forecast revenue and cash flow. For instance, if export values are typically higher during certain periods, businesses can align their financial planning (e.g., working capital, financing needs) accordingly.\n",
    "3. Adjust Marketing and Sales Campaigns: During peak export seasons, companies can ramp up marketing efforts or offer special promotions to drive even more sales. Similarly, for imports, consider negotiating better bulk purchasing deals during off-seasons when demand is lower, potentially securing lower prices from suppliers.\n",
    "\n",
    "* Disparate Payment Terms Pose a Financial Risk\n",
    "  * Finding: If there’s a high frequency of credit-based or post-payment terms in the dataset, it suggests that a large portion of the business relies on delayed payments, which can introduce cash flow risks, especially if not managed carefully.\n",
    "  * Managerial Recommendation:\n",
    "1. Implement Stricter Credit Control Policies: For customers with long payment terms, consider implementing stricter credit controls to minimize the risk of delayed or defaulted payments. Use data on past payment performance to assess creditworthiness and offer better terms to reliable customers.\n",
    "2. Incentivize Early Payment: Offer discounts or incentives for early or upfront payment, particularly for high-volume or high-value transactions. This can improve cash flow and reduce dependency on external financing.\n",
    "3. Diversify Payment Methods: Encourage customers to use a variety of payment methods, such as advance payments for critical orders, which reduce the company’s financial exposure. Similarly, consider implementing digital payment platforms to expedite the payment process.\n",
    "\n",
    "* Variability in Shipping Methods\n",
    "  * Finding: The distribution of shipping methods (e.g., air, sea, land) may show that certain methods are used more frequently, perhaps due to cost, speed, or customer preference. Alternatively, a wider distribution might reflect a more complex logistics operation.\n",
    "  * Managerial Recommendation:\n",
    "1. Optimize Shipping Costs: If air freight is used extensively, consider negotiating better rates with freight forwarders or exploring sea or land freight options for non-urgent shipments. By optimizing shipping methods based on trade-off analysis between cost, speed, and reliability, businesses can significantly reduce overall logistics costs.\n",
    "2. Create Shipping Strategy Based on Product Type: For high-value, perishable, or time-sensitive goods, air freight or express shipping is essential. For less critical goods, use slower, more cost-effective shipping methods like sea freight to maximize profitability.\n",
    "3. Diversify Shipping Partners: If too much reliance is placed on one shipping method or provider, businesses risk supply chain disruption. Consider diversifying logistics partners and shipping options to ensure business continuity, especially during peak global demand periods.\n",
    "\n",
    " \n",
    "* Disproportionate Import/Export Ratios\n",
    "  * Finding: If the dataset shows significant differences between the volume or value of imports versus exports, it may indicate trade imbalances or over-reliance on certain markets.\n",
    "  * Managerial Recommendation:\n",
    "1. Diversify Trade Markets: To reduce dependency on a single market or product, businesses should explore opportunities to diversify their customer base geographically. This reduces vulnerability to market-specific shocks (e.g., political instability, trade tariffs).\n",
    "2. Balance Imports and Exports: Where imports significantly outpace exports (or vice versa), consider realigning business strategies to focus on markets where the company’s products are in higher demand. This may involve entering new markets, expanding product offerings, or focusing on higher-margin export opportunities.\n",
    "3. Negotiate Better Import Terms: If import values are disproportionately high, revisit supplier contracts to negotiate more favorable payment terms, pricing discounts for bulk purchases, or alternative sourcing strategies to lower costs."
   ]
  },
  {
   "cell_type": "code",
   "execution_count": 224,
   "id": "5e77b4d7-beb9-4874-ae7d-7ff87dd6ebea",
   "metadata": {},
   "outputs": [],
   "source": [
    "# Import Relevant Python Libraries.\n",
    "import pandas as pd\n",
    "import numpy as np\n",
    "import scipy.stats as stats\n",
    "from scipy import stats\n",
    "from scipy.stats import skew\n",
    "from scipy.stats import kurtosis\n",
    "from scipy.stats import chi2_contingency"
   ]
  },
  {
   "cell_type": "code",
   "execution_count": 225,
   "id": "9a7ae8ec-da9f-4eac-a742-737c454ac5c9",
   "metadata": {},
   "outputs": [
    {
     "data": {
      "text/html": [
       "<div>\n",
       "<style scoped>\n",
       "    .dataframe tbody tr th:only-of-type {\n",
       "        vertical-align: middle;\n",
       "    }\n",
       "\n",
       "    .dataframe tbody tr th {\n",
       "        vertical-align: top;\n",
       "    }\n",
       "\n",
       "    .dataframe thead th {\n",
       "        text-align: right;\n",
       "    }\n",
       "</style>\n",
       "<table border=\"1\" class=\"dataframe\">\n",
       "  <thead>\n",
       "    <tr style=\"text-align: right;\">\n",
       "      <th></th>\n",
       "      <th>Transaction_ID</th>\n",
       "      <th>Country</th>\n",
       "      <th>Product</th>\n",
       "      <th>Import_Export</th>\n",
       "      <th>Quantity</th>\n",
       "      <th>Value</th>\n",
       "      <th>Date</th>\n",
       "      <th>Category</th>\n",
       "      <th>Port</th>\n",
       "      <th>Customs_Code</th>\n",
       "      <th>Weight</th>\n",
       "      <th>Shipping_Method</th>\n",
       "      <th>Supplier</th>\n",
       "      <th>Customer</th>\n",
       "      <th>Invoice_Number</th>\n",
       "      <th>Payment_Terms</th>\n",
       "    </tr>\n",
       "  </thead>\n",
       "  <tbody>\n",
       "    <tr>\n",
       "      <th>0</th>\n",
       "      <td>e3e70682-c209-4cac-a29f-6fbed82c07cd</td>\n",
       "      <td>Colombia</td>\n",
       "      <td>describe</td>\n",
       "      <td>Export</td>\n",
       "      <td>1979</td>\n",
       "      <td>9506.57</td>\n",
       "      <td>07-12-2023</td>\n",
       "      <td>Machinery</td>\n",
       "      <td>Robertbury</td>\n",
       "      <td>620537</td>\n",
       "      <td>4248.65</td>\n",
       "      <td>Air</td>\n",
       "      <td>Garrison, Hubbard and Hendricks</td>\n",
       "      <td>Seth Hall</td>\n",
       "      <td>21000294</td>\n",
       "      <td>Cash on Delivery</td>\n",
       "    </tr>\n",
       "    <tr>\n",
       "      <th>1</th>\n",
       "      <td>f728b4fa-4248-4e3a-8a5d-2f346baa9455</td>\n",
       "      <td>Chile</td>\n",
       "      <td>president</td>\n",
       "      <td>Export</td>\n",
       "      <td>5763</td>\n",
       "      <td>7100.91</td>\n",
       "      <td>04-04-2023</td>\n",
       "      <td>Clothing</td>\n",
       "      <td>Shahport</td>\n",
       "      <td>927600</td>\n",
       "      <td>4340.81</td>\n",
       "      <td>Air</td>\n",
       "      <td>Webb-Mack</td>\n",
       "      <td>Kimberly Ryan</td>\n",
       "      <td>88738432</td>\n",
       "      <td>Prepaid</td>\n",
       "    </tr>\n",
       "    <tr>\n",
       "      <th>2</th>\n",
       "      <td>eb1167b3-67a9-4378-bc65-c1e582e2e662</td>\n",
       "      <td>Turkey</td>\n",
       "      <td>far</td>\n",
       "      <td>Import</td>\n",
       "      <td>5740</td>\n",
       "      <td>2450.34</td>\n",
       "      <td>21-08-2024</td>\n",
       "      <td>Electronics</td>\n",
       "      <td>South Joshuatown</td>\n",
       "      <td>299258</td>\n",
       "      <td>4538.41</td>\n",
       "      <td>Air</td>\n",
       "      <td>Mendez, Jones and Johnson</td>\n",
       "      <td>Ryan Silva</td>\n",
       "      <td>89922099</td>\n",
       "      <td>Prepaid</td>\n",
       "    </tr>\n",
       "    <tr>\n",
       "      <th>3</th>\n",
       "      <td>f7c1bd87-4da5-4709-9471-3d60c8a70639</td>\n",
       "      <td>Christmas Island</td>\n",
       "      <td>agency</td>\n",
       "      <td>Export</td>\n",
       "      <td>2592</td>\n",
       "      <td>7226.42</td>\n",
       "      <td>09-05-2022</td>\n",
       "      <td>Furniture</td>\n",
       "      <td>Adamfort</td>\n",
       "      <td>996084</td>\n",
       "      <td>4886.14</td>\n",
       "      <td>Air</td>\n",
       "      <td>Schroeder-Smith</td>\n",
       "      <td>Jacob Gray</td>\n",
       "      <td>63216265</td>\n",
       "      <td>Net 60</td>\n",
       "    </tr>\n",
       "    <tr>\n",
       "      <th>4</th>\n",
       "      <td>e443df78-9558-467f-9ba9-1faf7a024204</td>\n",
       "      <td>Finland</td>\n",
       "      <td>policy</td>\n",
       "      <td>Export</td>\n",
       "      <td>2622</td>\n",
       "      <td>2817.29</td>\n",
       "      <td>03-04-2023</td>\n",
       "      <td>Electronics</td>\n",
       "      <td>Juliebury</td>\n",
       "      <td>555981</td>\n",
       "      <td>4406.74</td>\n",
       "      <td>Air</td>\n",
       "      <td>Zimmerman LLC</td>\n",
       "      <td>Amy Stephens</td>\n",
       "      <td>94600248</td>\n",
       "      <td>Cash on Delivery</td>\n",
       "    </tr>\n",
       "    <tr>\n",
       "      <th>...</th>\n",
       "      <td>...</td>\n",
       "      <td>...</td>\n",
       "      <td>...</td>\n",
       "      <td>...</td>\n",
       "      <td>...</td>\n",
       "      <td>...</td>\n",
       "      <td>...</td>\n",
       "      <td>...</td>\n",
       "      <td>...</td>\n",
       "      <td>...</td>\n",
       "      <td>...</td>\n",
       "      <td>...</td>\n",
       "      <td>...</td>\n",
       "      <td>...</td>\n",
       "      <td>...</td>\n",
       "      <td>...</td>\n",
       "    </tr>\n",
       "    <tr>\n",
       "      <th>14995</th>\n",
       "      <td>48df15a8-0823-4964-8c16-eddf2756f382</td>\n",
       "      <td>Marshall Islands</td>\n",
       "      <td>not</td>\n",
       "      <td>Export</td>\n",
       "      <td>2860</td>\n",
       "      <td>2055.19</td>\n",
       "      <td>09-07-2024</td>\n",
       "      <td>Furniture</td>\n",
       "      <td>South Karenfort</td>\n",
       "      <td>393463</td>\n",
       "      <td>4120.35</td>\n",
       "      <td>Land</td>\n",
       "      <td>Smith-Lewis</td>\n",
       "      <td>Darlene Davis</td>\n",
       "      <td>29605073</td>\n",
       "      <td>Net 60</td>\n",
       "    </tr>\n",
       "    <tr>\n",
       "      <th>14996</th>\n",
       "      <td>31106617-94a6-4646-a001-5e7bd45abc26</td>\n",
       "      <td>Bermuda</td>\n",
       "      <td>air</td>\n",
       "      <td>Export</td>\n",
       "      <td>2443</td>\n",
       "      <td>6407.06</td>\n",
       "      <td>18-06-2024</td>\n",
       "      <td>Furniture</td>\n",
       "      <td>Jeffreyside</td>\n",
       "      <td>484143</td>\n",
       "      <td>1832.71</td>\n",
       "      <td>Air</td>\n",
       "      <td>Jones Group</td>\n",
       "      <td>John Ramos</td>\n",
       "      <td>39044695</td>\n",
       "      <td>Cash on Delivery</td>\n",
       "    </tr>\n",
       "    <tr>\n",
       "      <th>14997</th>\n",
       "      <td>ee485839-fbde-4ced-af18-d98f5e863081</td>\n",
       "      <td>Tanzania</td>\n",
       "      <td>show</td>\n",
       "      <td>Export</td>\n",
       "      <td>1702</td>\n",
       "      <td>9918.29</td>\n",
       "      <td>30-04-2020</td>\n",
       "      <td>Toys</td>\n",
       "      <td>North Meganborough</td>\n",
       "      <td>354935</td>\n",
       "      <td>4203.52</td>\n",
       "      <td>Land</td>\n",
       "      <td>Barnes-Romero</td>\n",
       "      <td>Rebecca Phelps</td>\n",
       "      <td>78492040</td>\n",
       "      <td>Net 30</td>\n",
       "    </tr>\n",
       "    <tr>\n",
       "      <th>14998</th>\n",
       "      <td>5acd54aa-ec8c-4055-be8b-a447861a471c</td>\n",
       "      <td>Tuvalu</td>\n",
       "      <td>TV</td>\n",
       "      <td>Export</td>\n",
       "      <td>8108</td>\n",
       "      <td>9288.57</td>\n",
       "      <td>29-04-2021</td>\n",
       "      <td>Clothing</td>\n",
       "      <td>Villafurt</td>\n",
       "      <td>234296</td>\n",
       "      <td>1597.72</td>\n",
       "      <td>Land</td>\n",
       "      <td>Smith, Allison and Bennett</td>\n",
       "      <td>Scott Yates</td>\n",
       "      <td>20799602</td>\n",
       "      <td>Cash on Delivery</td>\n",
       "    </tr>\n",
       "    <tr>\n",
       "      <th>14999</th>\n",
       "      <td>5cc039d0-a052-41fd-bfbb-c9f60c4565ac</td>\n",
       "      <td>North Macedonia</td>\n",
       "      <td>year</td>\n",
       "      <td>Import</td>\n",
       "      <td>5635</td>\n",
       "      <td>561.33</td>\n",
       "      <td>25-12-2019</td>\n",
       "      <td>Clothing</td>\n",
       "      <td>West Gary</td>\n",
       "      <td>766709</td>\n",
       "      <td>2913.82</td>\n",
       "      <td>Air</td>\n",
       "      <td>Fleming-Miles</td>\n",
       "      <td>Steven Young</td>\n",
       "      <td>79237293</td>\n",
       "      <td>Net 30</td>\n",
       "    </tr>\n",
       "  </tbody>\n",
       "</table>\n",
       "<p>15000 rows × 16 columns</p>\n",
       "</div>"
      ],
      "text/plain": [
       "                             Transaction_ID           Country    Product  \\\n",
       "0      e3e70682-c209-4cac-a29f-6fbed82c07cd          Colombia   describe   \n",
       "1      f728b4fa-4248-4e3a-8a5d-2f346baa9455             Chile  president   \n",
       "2      eb1167b3-67a9-4378-bc65-c1e582e2e662            Turkey        far   \n",
       "3      f7c1bd87-4da5-4709-9471-3d60c8a70639  Christmas Island     agency   \n",
       "4      e443df78-9558-467f-9ba9-1faf7a024204           Finland     policy   \n",
       "...                                     ...               ...        ...   \n",
       "14995  48df15a8-0823-4964-8c16-eddf2756f382  Marshall Islands        not   \n",
       "14996  31106617-94a6-4646-a001-5e7bd45abc26           Bermuda        air   \n",
       "14997  ee485839-fbde-4ced-af18-d98f5e863081          Tanzania       show   \n",
       "14998  5acd54aa-ec8c-4055-be8b-a447861a471c            Tuvalu         TV   \n",
       "14999  5cc039d0-a052-41fd-bfbb-c9f60c4565ac   North Macedonia       year   \n",
       "\n",
       "      Import_Export  Quantity    Value        Date     Category  \\\n",
       "0            Export      1979  9506.57  07-12-2023    Machinery   \n",
       "1            Export      5763  7100.91  04-04-2023     Clothing   \n",
       "2            Import      5740  2450.34  21-08-2024  Electronics   \n",
       "3            Export      2592  7226.42  09-05-2022    Furniture   \n",
       "4            Export      2622  2817.29  03-04-2023  Electronics   \n",
       "...             ...       ...      ...         ...          ...   \n",
       "14995        Export      2860  2055.19  09-07-2024    Furniture   \n",
       "14996        Export      2443  6407.06  18-06-2024    Furniture   \n",
       "14997        Export      1702  9918.29  30-04-2020         Toys   \n",
       "14998        Export      8108  9288.57  29-04-2021     Clothing   \n",
       "14999        Import      5635   561.33  25-12-2019     Clothing   \n",
       "\n",
       "                     Port  Customs_Code   Weight Shipping_Method  \\\n",
       "0              Robertbury        620537  4248.65             Air   \n",
       "1                Shahport        927600  4340.81             Air   \n",
       "2        South Joshuatown        299258  4538.41             Air   \n",
       "3                Adamfort        996084  4886.14             Air   \n",
       "4               Juliebury        555981  4406.74             Air   \n",
       "...                   ...           ...      ...             ...   \n",
       "14995     South Karenfort        393463  4120.35            Land   \n",
       "14996         Jeffreyside        484143  1832.71             Air   \n",
       "14997  North Meganborough        354935  4203.52            Land   \n",
       "14998           Villafurt        234296  1597.72            Land   \n",
       "14999           West Gary        766709  2913.82             Air   \n",
       "\n",
       "                              Supplier        Customer  Invoice_Number  \\\n",
       "0      Garrison, Hubbard and Hendricks       Seth Hall        21000294   \n",
       "1                            Webb-Mack   Kimberly Ryan        88738432   \n",
       "2            Mendez, Jones and Johnson      Ryan Silva        89922099   \n",
       "3                      Schroeder-Smith      Jacob Gray        63216265   \n",
       "4                        Zimmerman LLC    Amy Stephens        94600248   \n",
       "...                                ...             ...             ...   \n",
       "14995                      Smith-Lewis   Darlene Davis        29605073   \n",
       "14996                      Jones Group      John Ramos        39044695   \n",
       "14997                    Barnes-Romero  Rebecca Phelps        78492040   \n",
       "14998       Smith, Allison and Bennett     Scott Yates        20799602   \n",
       "14999                    Fleming-Miles    Steven Young        79237293   \n",
       "\n",
       "          Payment_Terms  \n",
       "0      Cash on Delivery  \n",
       "1               Prepaid  \n",
       "2               Prepaid  \n",
       "3                Net 60  \n",
       "4      Cash on Delivery  \n",
       "...                 ...  \n",
       "14995            Net 60  \n",
       "14996  Cash on Delivery  \n",
       "14997            Net 30  \n",
       "14998  Cash on Delivery  \n",
       "14999            Net 30  \n",
       "\n",
       "[15000 rows x 16 columns]"
      ]
     },
     "execution_count": 225,
     "metadata": {},
     "output_type": "execute_result"
    }
   ],
   "source": [
    "# 1. Load the Test Data.\n",
    "file_path = ( r\"C:\\Users\\DELL\\Downloads\\archive (1)\\Imports_Exports_Dataset.csv\")\n",
    "df = pd.read_csv(file_path)\n",
    "df = pd.DataFrame(df)\n",
    "df"
   ]
  },
  {
   "cell_type": "code",
   "execution_count": 226,
   "id": "c041c789-6629-4541-90d8-eef56084d263",
   "metadata": {},
   "outputs": [
    {
     "data": {
      "text/plain": [
       "(15000, 16)"
      ]
     },
     "execution_count": 226,
     "metadata": {},
     "output_type": "execute_result"
    }
   ],
   "source": [
    "# A2. Display the Dimensions of Test Data.\n",
    "df.shape"
   ]
  },
  {
   "cell_type": "code",
   "execution_count": 227,
   "id": "403ec267-5d00-4899-84bd-b491f0fd9f37",
   "metadata": {},
   "outputs": [
    {
     "data": {
      "text/plain": [
       "<bound method DataFrame.info of                              Transaction_ID           Country    Product  \\\n",
       "0      e3e70682-c209-4cac-a29f-6fbed82c07cd          Colombia   describe   \n",
       "1      f728b4fa-4248-4e3a-8a5d-2f346baa9455             Chile  president   \n",
       "2      eb1167b3-67a9-4378-bc65-c1e582e2e662            Turkey        far   \n",
       "3      f7c1bd87-4da5-4709-9471-3d60c8a70639  Christmas Island     agency   \n",
       "4      e443df78-9558-467f-9ba9-1faf7a024204           Finland     policy   \n",
       "...                                     ...               ...        ...   \n",
       "14995  48df15a8-0823-4964-8c16-eddf2756f382  Marshall Islands        not   \n",
       "14996  31106617-94a6-4646-a001-5e7bd45abc26           Bermuda        air   \n",
       "14997  ee485839-fbde-4ced-af18-d98f5e863081          Tanzania       show   \n",
       "14998  5acd54aa-ec8c-4055-be8b-a447861a471c            Tuvalu         TV   \n",
       "14999  5cc039d0-a052-41fd-bfbb-c9f60c4565ac   North Macedonia       year   \n",
       "\n",
       "      Import_Export  Quantity    Value        Date     Category  \\\n",
       "0            Export      1979  9506.57  07-12-2023    Machinery   \n",
       "1            Export      5763  7100.91  04-04-2023     Clothing   \n",
       "2            Import      5740  2450.34  21-08-2024  Electronics   \n",
       "3            Export      2592  7226.42  09-05-2022    Furniture   \n",
       "4            Export      2622  2817.29  03-04-2023  Electronics   \n",
       "...             ...       ...      ...         ...          ...   \n",
       "14995        Export      2860  2055.19  09-07-2024    Furniture   \n",
       "14996        Export      2443  6407.06  18-06-2024    Furniture   \n",
       "14997        Export      1702  9918.29  30-04-2020         Toys   \n",
       "14998        Export      8108  9288.57  29-04-2021     Clothing   \n",
       "14999        Import      5635   561.33  25-12-2019     Clothing   \n",
       "\n",
       "                     Port  Customs_Code   Weight Shipping_Method  \\\n",
       "0              Robertbury        620537  4248.65             Air   \n",
       "1                Shahport        927600  4340.81             Air   \n",
       "2        South Joshuatown        299258  4538.41             Air   \n",
       "3                Adamfort        996084  4886.14             Air   \n",
       "4               Juliebury        555981  4406.74             Air   \n",
       "...                   ...           ...      ...             ...   \n",
       "14995     South Karenfort        393463  4120.35            Land   \n",
       "14996         Jeffreyside        484143  1832.71             Air   \n",
       "14997  North Meganborough        354935  4203.52            Land   \n",
       "14998           Villafurt        234296  1597.72            Land   \n",
       "14999           West Gary        766709  2913.82             Air   \n",
       "\n",
       "                              Supplier        Customer  Invoice_Number  \\\n",
       "0      Garrison, Hubbard and Hendricks       Seth Hall        21000294   \n",
       "1                            Webb-Mack   Kimberly Ryan        88738432   \n",
       "2            Mendez, Jones and Johnson      Ryan Silva        89922099   \n",
       "3                      Schroeder-Smith      Jacob Gray        63216265   \n",
       "4                        Zimmerman LLC    Amy Stephens        94600248   \n",
       "...                                ...             ...             ...   \n",
       "14995                      Smith-Lewis   Darlene Davis        29605073   \n",
       "14996                      Jones Group      John Ramos        39044695   \n",
       "14997                    Barnes-Romero  Rebecca Phelps        78492040   \n",
       "14998       Smith, Allison and Bennett     Scott Yates        20799602   \n",
       "14999                    Fleming-Miles    Steven Young        79237293   \n",
       "\n",
       "          Payment_Terms  \n",
       "0      Cash on Delivery  \n",
       "1               Prepaid  \n",
       "2               Prepaid  \n",
       "3                Net 60  \n",
       "4      Cash on Delivery  \n",
       "...                 ...  \n",
       "14995            Net 60  \n",
       "14996  Cash on Delivery  \n",
       "14997            Net 30  \n",
       "14998  Cash on Delivery  \n",
       "14999            Net 30  \n",
       "\n",
       "[15000 rows x 16 columns]>"
      ]
     },
     "execution_count": 227,
     "metadata": {},
     "output_type": "execute_result"
    }
   ],
   "source": [
    "# A3. Display Data Information.\n",
    "df.info"
   ]
  },
  {
   "cell_type": "code",
   "execution_count": 228,
   "id": "0f0c5734-a401-4869-83c5-42e0a5a76616",
   "metadata": {},
   "outputs": [
    {
     "data": {
      "text/html": [
       "<div>\n",
       "<style scoped>\n",
       "    .dataframe tbody tr th:only-of-type {\n",
       "        vertical-align: middle;\n",
       "    }\n",
       "\n",
       "    .dataframe tbody tr th {\n",
       "        vertical-align: top;\n",
       "    }\n",
       "\n",
       "    .dataframe thead th {\n",
       "        text-align: right;\n",
       "    }\n",
       "</style>\n",
       "<table border=\"1\" class=\"dataframe\">\n",
       "  <thead>\n",
       "    <tr style=\"text-align: right;\">\n",
       "      <th></th>\n",
       "      <th>Transaction_ID</th>\n",
       "      <th>Country</th>\n",
       "      <th>Product</th>\n",
       "      <th>Import_Export</th>\n",
       "      <th>Quantity</th>\n",
       "      <th>Value</th>\n",
       "      <th>Date</th>\n",
       "      <th>Category</th>\n",
       "      <th>Port</th>\n",
       "      <th>Customs_Code</th>\n",
       "      <th>Weight</th>\n",
       "      <th>Shipping_Method</th>\n",
       "      <th>Supplier</th>\n",
       "      <th>Customer</th>\n",
       "      <th>Invoice_Number</th>\n",
       "      <th>Payment_Terms</th>\n",
       "    </tr>\n",
       "  </thead>\n",
       "  <tbody>\n",
       "    <tr>\n",
       "      <th>8190</th>\n",
       "      <td>b2e0a53c-4169-4ee2-b93a-3af02ce2c544</td>\n",
       "      <td>Peru</td>\n",
       "      <td>rock</td>\n",
       "      <td>Export</td>\n",
       "      <td>4074</td>\n",
       "      <td>593.78</td>\n",
       "      <td>14-10-2023</td>\n",
       "      <td>Electronics</td>\n",
       "      <td>Sheenamouth</td>\n",
       "      <td>949374</td>\n",
       "      <td>4022.42</td>\n",
       "      <td>Sea</td>\n",
       "      <td>Chase Inc</td>\n",
       "      <td>Samuel Miller</td>\n",
       "      <td>4878186</td>\n",
       "      <td>Net 30</td>\n",
       "    </tr>\n",
       "    <tr>\n",
       "      <th>7842</th>\n",
       "      <td>c0e23cb5-7d12-46c9-9d87-028e18075194</td>\n",
       "      <td>Armenia</td>\n",
       "      <td>real</td>\n",
       "      <td>Export</td>\n",
       "      <td>4486</td>\n",
       "      <td>2423.99</td>\n",
       "      <td>29-03-2022</td>\n",
       "      <td>Clothing</td>\n",
       "      <td>Laraborough</td>\n",
       "      <td>178557</td>\n",
       "      <td>844.48</td>\n",
       "      <td>Air</td>\n",
       "      <td>Yang-Young</td>\n",
       "      <td>Diane Black</td>\n",
       "      <td>55424862</td>\n",
       "      <td>Net 30</td>\n",
       "    </tr>\n",
       "    <tr>\n",
       "      <th>3424</th>\n",
       "      <td>affce8e9-62de-4fdb-bd32-8aa57b825faf</td>\n",
       "      <td>Hong Kong</td>\n",
       "      <td>get</td>\n",
       "      <td>Import</td>\n",
       "      <td>2540</td>\n",
       "      <td>1700.01</td>\n",
       "      <td>19-03-2022</td>\n",
       "      <td>Clothing</td>\n",
       "      <td>Gilesstad</td>\n",
       "      <td>274568</td>\n",
       "      <td>1661.91</td>\n",
       "      <td>Air</td>\n",
       "      <td>Green, Young and Wilkerson</td>\n",
       "      <td>Stephanie Vega</td>\n",
       "      <td>71911706</td>\n",
       "      <td>Cash on Delivery</td>\n",
       "    </tr>\n",
       "    <tr>\n",
       "      <th>800</th>\n",
       "      <td>f5652d00-67a4-4b26-8d6e-44f20189a5d9</td>\n",
       "      <td>Cyprus</td>\n",
       "      <td>clear</td>\n",
       "      <td>Import</td>\n",
       "      <td>1538</td>\n",
       "      <td>4927.95</td>\n",
       "      <td>23-07-2023</td>\n",
       "      <td>Furniture</td>\n",
       "      <td>Crystalport</td>\n",
       "      <td>953921</td>\n",
       "      <td>2251.51</td>\n",
       "      <td>Sea</td>\n",
       "      <td>Smith-Fisher</td>\n",
       "      <td>Nancy Rivera</td>\n",
       "      <td>80286476</td>\n",
       "      <td>Prepaid</td>\n",
       "    </tr>\n",
       "    <tr>\n",
       "      <th>4373</th>\n",
       "      <td>aef31182-bc42-440c-b81a-840c91368e6b</td>\n",
       "      <td>Equatorial Guinea</td>\n",
       "      <td>carry</td>\n",
       "      <td>Export</td>\n",
       "      <td>3243</td>\n",
       "      <td>7798.47</td>\n",
       "      <td>10-09-2021</td>\n",
       "      <td>Electronics</td>\n",
       "      <td>Paulfurt</td>\n",
       "      <td>655413</td>\n",
       "      <td>2556.14</td>\n",
       "      <td>Sea</td>\n",
       "      <td>White, Weiss and Simpson</td>\n",
       "      <td>Chris Morgan</td>\n",
       "      <td>68917212</td>\n",
       "      <td>Net 30</td>\n",
       "    </tr>\n",
       "    <tr>\n",
       "      <th>...</th>\n",
       "      <td>...</td>\n",
       "      <td>...</td>\n",
       "      <td>...</td>\n",
       "      <td>...</td>\n",
       "      <td>...</td>\n",
       "      <td>...</td>\n",
       "      <td>...</td>\n",
       "      <td>...</td>\n",
       "      <td>...</td>\n",
       "      <td>...</td>\n",
       "      <td>...</td>\n",
       "      <td>...</td>\n",
       "      <td>...</td>\n",
       "      <td>...</td>\n",
       "      <td>...</td>\n",
       "      <td>...</td>\n",
       "    </tr>\n",
       "    <tr>\n",
       "      <th>9189</th>\n",
       "      <td>fe784b3d-0be8-4882-8e2a-28e18100f337</td>\n",
       "      <td>China</td>\n",
       "      <td>article</td>\n",
       "      <td>Export</td>\n",
       "      <td>6177</td>\n",
       "      <td>9990.37</td>\n",
       "      <td>31-03-2021</td>\n",
       "      <td>Clothing</td>\n",
       "      <td>New Sharonville</td>\n",
       "      <td>583721</td>\n",
       "      <td>2479.30</td>\n",
       "      <td>Sea</td>\n",
       "      <td>Bush, Peters and Castro</td>\n",
       "      <td>Eric Kennedy</td>\n",
       "      <td>85087591</td>\n",
       "      <td>Prepaid</td>\n",
       "    </tr>\n",
       "    <tr>\n",
       "      <th>13996</th>\n",
       "      <td>61751c41-5af0-416d-b3cf-a709810a14dc</td>\n",
       "      <td>Korea</td>\n",
       "      <td>free</td>\n",
       "      <td>Import</td>\n",
       "      <td>3604</td>\n",
       "      <td>4203.29</td>\n",
       "      <td>22-07-2021</td>\n",
       "      <td>Electronics</td>\n",
       "      <td>South Adrian</td>\n",
       "      <td>409434</td>\n",
       "      <td>3067.16</td>\n",
       "      <td>Air</td>\n",
       "      <td>James-Maynard</td>\n",
       "      <td>John Hernandez</td>\n",
       "      <td>8231875</td>\n",
       "      <td>Cash on Delivery</td>\n",
       "    </tr>\n",
       "    <tr>\n",
       "      <th>11333</th>\n",
       "      <td>28341d5f-8ef7-456d-b957-f35cc8205c0e</td>\n",
       "      <td>Svalbard &amp; Jan Mayen Islands</td>\n",
       "      <td>air</td>\n",
       "      <td>Export</td>\n",
       "      <td>8609</td>\n",
       "      <td>347.46</td>\n",
       "      <td>07-06-2024</td>\n",
       "      <td>Clothing</td>\n",
       "      <td>Tonyaberg</td>\n",
       "      <td>527074</td>\n",
       "      <td>1241.66</td>\n",
       "      <td>Sea</td>\n",
       "      <td>Davis, Wilson and Mcdonald</td>\n",
       "      <td>Alexis Hudson</td>\n",
       "      <td>76048689</td>\n",
       "      <td>Net 30</td>\n",
       "    </tr>\n",
       "    <tr>\n",
       "      <th>5110</th>\n",
       "      <td>3803fff3-8f9b-4bda-8a62-4be8c7e2d825</td>\n",
       "      <td>Liechtenstein</td>\n",
       "      <td>probably</td>\n",
       "      <td>Export</td>\n",
       "      <td>7583</td>\n",
       "      <td>6202.65</td>\n",
       "      <td>21-06-2020</td>\n",
       "      <td>Furniture</td>\n",
       "      <td>Port Jennifer</td>\n",
       "      <td>612624</td>\n",
       "      <td>1041.66</td>\n",
       "      <td>Sea</td>\n",
       "      <td>Mueller-Johnson</td>\n",
       "      <td>Linda Anderson</td>\n",
       "      <td>74218897</td>\n",
       "      <td>Prepaid</td>\n",
       "    </tr>\n",
       "    <tr>\n",
       "      <th>3112</th>\n",
       "      <td>966d66ed-741b-4eed-a9b9-5826d33f87bb</td>\n",
       "      <td>Christmas Island</td>\n",
       "      <td>few</td>\n",
       "      <td>Import</td>\n",
       "      <td>8203</td>\n",
       "      <td>5675.84</td>\n",
       "      <td>25-11-2023</td>\n",
       "      <td>Electronics</td>\n",
       "      <td>Ashleyton</td>\n",
       "      <td>387754</td>\n",
       "      <td>3789.44</td>\n",
       "      <td>Land</td>\n",
       "      <td>Pruitt Ltd</td>\n",
       "      <td>Alexis Kennedy</td>\n",
       "      <td>65637952</td>\n",
       "      <td>Net 30</td>\n",
       "    </tr>\n",
       "  </tbody>\n",
       "</table>\n",
       "<p>2001 rows × 16 columns</p>\n",
       "</div>"
      ],
      "text/plain": [
       "                             Transaction_ID                       Country  \\\n",
       "8190   b2e0a53c-4169-4ee2-b93a-3af02ce2c544                          Peru   \n",
       "7842   c0e23cb5-7d12-46c9-9d87-028e18075194                       Armenia   \n",
       "3424   affce8e9-62de-4fdb-bd32-8aa57b825faf                     Hong Kong   \n",
       "800    f5652d00-67a4-4b26-8d6e-44f20189a5d9                        Cyprus   \n",
       "4373   aef31182-bc42-440c-b81a-840c91368e6b             Equatorial Guinea   \n",
       "...                                     ...                           ...   \n",
       "9189   fe784b3d-0be8-4882-8e2a-28e18100f337                         China   \n",
       "13996  61751c41-5af0-416d-b3cf-a709810a14dc                         Korea   \n",
       "11333  28341d5f-8ef7-456d-b957-f35cc8205c0e  Svalbard & Jan Mayen Islands   \n",
       "5110   3803fff3-8f9b-4bda-8a62-4be8c7e2d825                 Liechtenstein   \n",
       "3112   966d66ed-741b-4eed-a9b9-5826d33f87bb              Christmas Island   \n",
       "\n",
       "        Product Import_Export  Quantity    Value        Date     Category  \\\n",
       "8190       rock        Export      4074   593.78  14-10-2023  Electronics   \n",
       "7842       real        Export      4486  2423.99  29-03-2022     Clothing   \n",
       "3424        get        Import      2540  1700.01  19-03-2022     Clothing   \n",
       "800       clear        Import      1538  4927.95  23-07-2023    Furniture   \n",
       "4373      carry        Export      3243  7798.47  10-09-2021  Electronics   \n",
       "...         ...           ...       ...      ...         ...          ...   \n",
       "9189    article        Export      6177  9990.37  31-03-2021     Clothing   \n",
       "13996      free        Import      3604  4203.29  22-07-2021  Electronics   \n",
       "11333       air        Export      8609   347.46  07-06-2024     Clothing   \n",
       "5110   probably        Export      7583  6202.65  21-06-2020    Furniture   \n",
       "3112        few        Import      8203  5675.84  25-11-2023  Electronics   \n",
       "\n",
       "                  Port  Customs_Code   Weight Shipping_Method  \\\n",
       "8190       Sheenamouth        949374  4022.42             Sea   \n",
       "7842       Laraborough        178557   844.48             Air   \n",
       "3424         Gilesstad        274568  1661.91             Air   \n",
       "800        Crystalport        953921  2251.51             Sea   \n",
       "4373          Paulfurt        655413  2556.14             Sea   \n",
       "...                ...           ...      ...             ...   \n",
       "9189   New Sharonville        583721  2479.30             Sea   \n",
       "13996     South Adrian        409434  3067.16             Air   \n",
       "11333        Tonyaberg        527074  1241.66             Sea   \n",
       "5110     Port Jennifer        612624  1041.66             Sea   \n",
       "3112         Ashleyton        387754  3789.44            Land   \n",
       "\n",
       "                         Supplier        Customer  Invoice_Number  \\\n",
       "8190                    Chase Inc   Samuel Miller         4878186   \n",
       "7842                   Yang-Young     Diane Black        55424862   \n",
       "3424   Green, Young and Wilkerson  Stephanie Vega        71911706   \n",
       "800                  Smith-Fisher    Nancy Rivera        80286476   \n",
       "4373     White, Weiss and Simpson    Chris Morgan        68917212   \n",
       "...                           ...             ...             ...   \n",
       "9189      Bush, Peters and Castro    Eric Kennedy        85087591   \n",
       "13996               James-Maynard  John Hernandez         8231875   \n",
       "11333  Davis, Wilson and Mcdonald   Alexis Hudson        76048689   \n",
       "5110              Mueller-Johnson  Linda Anderson        74218897   \n",
       "3112                   Pruitt Ltd  Alexis Kennedy        65637952   \n",
       "\n",
       "          Payment_Terms  \n",
       "8190             Net 30  \n",
       "7842             Net 30  \n",
       "3424   Cash on Delivery  \n",
       "800             Prepaid  \n",
       "4373             Net 30  \n",
       "...                 ...  \n",
       "9189            Prepaid  \n",
       "13996  Cash on Delivery  \n",
       "11333            Net 30  \n",
       "5110            Prepaid  \n",
       "3112             Net 30  \n",
       "\n",
       "[2001 rows x 16 columns]"
      ]
     },
     "execution_count": 228,
     "metadata": {},
     "output_type": "execute_result"
    }
   ],
   "source": [
    "# A4. Create an Unique Sample of 2001 Records using Student Roll Number as Random State.\n",
    "my_sample= df.sample(n=2001, random_state=5509)\n",
    "my_sample"
   ]
  },
  {
   "cell_type": "code",
   "execution_count": 229,
   "id": "f3a1679a-f938-4f33-9b1f-818828d73e41",
   "metadata": {},
   "outputs": [
    {
     "data": {
      "text/plain": [
       "(2001, 16)"
      ]
     },
     "execution_count": 229,
     "metadata": {},
     "output_type": "execute_result"
    }
   ],
   "source": [
    "# A5. Display the Dimensions of Sample Data.\n",
    "my_sample.shape"
   ]
  },
  {
   "cell_type": "code",
   "execution_count": 230,
   "id": "e052e72c-8063-459b-97d7-4cd4ee5fa5d9",
   "metadata": {},
   "outputs": [
    {
     "data": {
      "text/plain": [
       "<bound method DataFrame.info of                              Transaction_ID                       Country  \\\n",
       "8190   b2e0a53c-4169-4ee2-b93a-3af02ce2c544                          Peru   \n",
       "7842   c0e23cb5-7d12-46c9-9d87-028e18075194                       Armenia   \n",
       "3424   affce8e9-62de-4fdb-bd32-8aa57b825faf                     Hong Kong   \n",
       "800    f5652d00-67a4-4b26-8d6e-44f20189a5d9                        Cyprus   \n",
       "4373   aef31182-bc42-440c-b81a-840c91368e6b             Equatorial Guinea   \n",
       "...                                     ...                           ...   \n",
       "9189   fe784b3d-0be8-4882-8e2a-28e18100f337                         China   \n",
       "13996  61751c41-5af0-416d-b3cf-a709810a14dc                         Korea   \n",
       "11333  28341d5f-8ef7-456d-b957-f35cc8205c0e  Svalbard & Jan Mayen Islands   \n",
       "5110   3803fff3-8f9b-4bda-8a62-4be8c7e2d825                 Liechtenstein   \n",
       "3112   966d66ed-741b-4eed-a9b9-5826d33f87bb              Christmas Island   \n",
       "\n",
       "        Product Import_Export  Quantity    Value        Date     Category  \\\n",
       "8190       rock        Export      4074   593.78  14-10-2023  Electronics   \n",
       "7842       real        Export      4486  2423.99  29-03-2022     Clothing   \n",
       "3424        get        Import      2540  1700.01  19-03-2022     Clothing   \n",
       "800       clear        Import      1538  4927.95  23-07-2023    Furniture   \n",
       "4373      carry        Export      3243  7798.47  10-09-2021  Electronics   \n",
       "...         ...           ...       ...      ...         ...          ...   \n",
       "9189    article        Export      6177  9990.37  31-03-2021     Clothing   \n",
       "13996      free        Import      3604  4203.29  22-07-2021  Electronics   \n",
       "11333       air        Export      8609   347.46  07-06-2024     Clothing   \n",
       "5110   probably        Export      7583  6202.65  21-06-2020    Furniture   \n",
       "3112        few        Import      8203  5675.84  25-11-2023  Electronics   \n",
       "\n",
       "                  Port  Customs_Code   Weight Shipping_Method  \\\n",
       "8190       Sheenamouth        949374  4022.42             Sea   \n",
       "7842       Laraborough        178557   844.48             Air   \n",
       "3424         Gilesstad        274568  1661.91             Air   \n",
       "800        Crystalport        953921  2251.51             Sea   \n",
       "4373          Paulfurt        655413  2556.14             Sea   \n",
       "...                ...           ...      ...             ...   \n",
       "9189   New Sharonville        583721  2479.30             Sea   \n",
       "13996     South Adrian        409434  3067.16             Air   \n",
       "11333        Tonyaberg        527074  1241.66             Sea   \n",
       "5110     Port Jennifer        612624  1041.66             Sea   \n",
       "3112         Ashleyton        387754  3789.44            Land   \n",
       "\n",
       "                         Supplier        Customer  Invoice_Number  \\\n",
       "8190                    Chase Inc   Samuel Miller         4878186   \n",
       "7842                   Yang-Young     Diane Black        55424862   \n",
       "3424   Green, Young and Wilkerson  Stephanie Vega        71911706   \n",
       "800                  Smith-Fisher    Nancy Rivera        80286476   \n",
       "4373     White, Weiss and Simpson    Chris Morgan        68917212   \n",
       "...                           ...             ...             ...   \n",
       "9189      Bush, Peters and Castro    Eric Kennedy        85087591   \n",
       "13996               James-Maynard  John Hernandez         8231875   \n",
       "11333  Davis, Wilson and Mcdonald   Alexis Hudson        76048689   \n",
       "5110              Mueller-Johnson  Linda Anderson        74218897   \n",
       "3112                   Pruitt Ltd  Alexis Kennedy        65637952   \n",
       "\n",
       "          Payment_Terms  \n",
       "8190             Net 30  \n",
       "7842             Net 30  \n",
       "3424   Cash on Delivery  \n",
       "800             Prepaid  \n",
       "4373             Net 30  \n",
       "...                 ...  \n",
       "9189            Prepaid  \n",
       "13996  Cash on Delivery  \n",
       "11333            Net 30  \n",
       "5110            Prepaid  \n",
       "3112             Net 30  \n",
       "\n",
       "[2001 rows x 16 columns]>"
      ]
     },
     "execution_count": 230,
     "metadata": {},
     "output_type": "execute_result"
    }
   ],
   "source": [
    "# A6. Display Sample Data Information.\n",
    "my_sample.info"
   ]
  },
  {
   "cell_type": "code",
   "execution_count": 231,
   "id": "32ace40c-3958-4c8c-8780-07c14866c4c0",
   "metadata": {},
   "outputs": [
    {
     "data": {
      "text/html": [
       "<div>\n",
       "<style scoped>\n",
       "    .dataframe tbody tr th:only-of-type {\n",
       "        vertical-align: middle;\n",
       "    }\n",
       "\n",
       "    .dataframe tbody tr th {\n",
       "        vertical-align: top;\n",
       "    }\n",
       "\n",
       "    .dataframe thead th {\n",
       "        text-align: right;\n",
       "    }\n",
       "</style>\n",
       "<table border=\"1\" class=\"dataframe\">\n",
       "  <thead>\n",
       "    <tr style=\"text-align: right;\">\n",
       "      <th></th>\n",
       "      <th>Transaction_ID</th>\n",
       "      <th>Country</th>\n",
       "      <th>Product</th>\n",
       "      <th>Import_Export</th>\n",
       "      <th>Quantity</th>\n",
       "      <th>Value</th>\n",
       "      <th>Date</th>\n",
       "      <th>Category</th>\n",
       "      <th>Port</th>\n",
       "      <th>Customs_Code</th>\n",
       "      <th>Weight</th>\n",
       "      <th>Shipping_Method</th>\n",
       "      <th>Supplier</th>\n",
       "      <th>Customer</th>\n",
       "      <th>Invoice_Number</th>\n",
       "      <th>Payment_Terms</th>\n",
       "    </tr>\n",
       "  </thead>\n",
       "  <tbody>\n",
       "    <tr>\n",
       "      <th>8190</th>\n",
       "      <td>b2e0a53c-4169-4ee2-b93a-3af02ce2c544</td>\n",
       "      <td>Peru</td>\n",
       "      <td>rock</td>\n",
       "      <td>Export</td>\n",
       "      <td>4074</td>\n",
       "      <td>593.78</td>\n",
       "      <td>14-10-2023</td>\n",
       "      <td>Electronics</td>\n",
       "      <td>Sheenamouth</td>\n",
       "      <td>949374</td>\n",
       "      <td>4022.42</td>\n",
       "      <td>Sea</td>\n",
       "      <td>Chase Inc</td>\n",
       "      <td>Samuel Miller</td>\n",
       "      <td>4878186</td>\n",
       "      <td>Net 30</td>\n",
       "    </tr>\n",
       "    <tr>\n",
       "      <th>7842</th>\n",
       "      <td>c0e23cb5-7d12-46c9-9d87-028e18075194</td>\n",
       "      <td>Armenia</td>\n",
       "      <td>real</td>\n",
       "      <td>Export</td>\n",
       "      <td>4486</td>\n",
       "      <td>2423.99</td>\n",
       "      <td>29-03-2022</td>\n",
       "      <td>Clothing</td>\n",
       "      <td>Laraborough</td>\n",
       "      <td>178557</td>\n",
       "      <td>844.48</td>\n",
       "      <td>Air</td>\n",
       "      <td>Yang-Young</td>\n",
       "      <td>Diane Black</td>\n",
       "      <td>55424862</td>\n",
       "      <td>Net 30</td>\n",
       "    </tr>\n",
       "    <tr>\n",
       "      <th>3424</th>\n",
       "      <td>affce8e9-62de-4fdb-bd32-8aa57b825faf</td>\n",
       "      <td>Hong Kong</td>\n",
       "      <td>get</td>\n",
       "      <td>Import</td>\n",
       "      <td>2540</td>\n",
       "      <td>1700.01</td>\n",
       "      <td>19-03-2022</td>\n",
       "      <td>Clothing</td>\n",
       "      <td>Gilesstad</td>\n",
       "      <td>274568</td>\n",
       "      <td>1661.91</td>\n",
       "      <td>Air</td>\n",
       "      <td>Green, Young and Wilkerson</td>\n",
       "      <td>Stephanie Vega</td>\n",
       "      <td>71911706</td>\n",
       "      <td>Cash on Delivery</td>\n",
       "    </tr>\n",
       "  </tbody>\n",
       "</table>\n",
       "</div>"
      ],
      "text/plain": [
       "                            Transaction_ID    Country Product Import_Export  \\\n",
       "8190  b2e0a53c-4169-4ee2-b93a-3af02ce2c544       Peru    rock        Export   \n",
       "7842  c0e23cb5-7d12-46c9-9d87-028e18075194    Armenia    real        Export   \n",
       "3424  affce8e9-62de-4fdb-bd32-8aa57b825faf  Hong Kong     get        Import   \n",
       "\n",
       "      Quantity    Value        Date     Category         Port  Customs_Code  \\\n",
       "8190      4074   593.78  14-10-2023  Electronics  Sheenamouth        949374   \n",
       "7842      4486  2423.99  29-03-2022     Clothing  Laraborough        178557   \n",
       "3424      2540  1700.01  19-03-2022     Clothing    Gilesstad        274568   \n",
       "\n",
       "       Weight Shipping_Method                    Supplier        Customer  \\\n",
       "8190  4022.42             Sea                   Chase Inc   Samuel Miller   \n",
       "7842   844.48             Air                  Yang-Young     Diane Black   \n",
       "3424  1661.91             Air  Green, Young and Wilkerson  Stephanie Vega   \n",
       "\n",
       "      Invoice_Number     Payment_Terms  \n",
       "8190         4878186            Net 30  \n",
       "7842        55424862            Net 30  \n",
       "3424        71911706  Cash on Delivery  "
      ]
     },
     "execution_count": 231,
     "metadata": {},
     "output_type": "execute_result"
    }
   ],
   "source": [
    "# A7. Display the First 03 Records of the Sample Data.\n",
    "my_sample.head(3)"
   ]
  },
  {
   "cell_type": "code",
   "execution_count": 232,
   "id": "7b678c3b-21be-44e4-8d29-bf91e90c7368",
   "metadata": {},
   "outputs": [
    {
     "data": {
      "text/plain": [
       "['Transaction_ID',\n",
       " 'Country',\n",
       " 'Product',\n",
       " 'Import_Export',\n",
       " 'Quantity',\n",
       " 'Value',\n",
       " 'Date',\n",
       " 'Category',\n",
       " 'Port',\n",
       " 'Customs_Code',\n",
       " 'Weight',\n",
       " 'Shipping_Method',\n",
       " 'Supplier',\n",
       " 'Customer',\n",
       " 'Invoice_Number',\n",
       " 'Payment_Terms']"
      ]
     },
     "execution_count": 232,
     "metadata": {},
     "output_type": "execute_result"
    }
   ],
   "source": [
    "# B1. Display the List of Names of the Variables.\n",
    "list(my_sample.columns)"
   ]
  },
  {
   "cell_type": "code",
   "execution_count": 233,
   "id": "f8c80b0e-d3f2-4865-9427-fcc8cf3a6c22",
   "metadata": {},
   "outputs": [],
   "source": [
    "# B2. Identify & Display the List of following Variables:\n",
    "# 1. Index Variables:- Transaction_ID\n",
    "# 2. Categorical Variables - Nominal Type:- Country, Product, Import_Export, Category, Port, Customs_Code, Shipping_Method, Supplier, Customer, Invoice_Number , Payment_Terms\n",
    "# 3. Categorical Variables - Ordinal Type:- None\n",
    "# 4. Non-Categorical Variables:- Quantity, Value, Weight, Date"
   ]
  },
  {
   "cell_type": "code",
   "execution_count": 234,
   "id": "035dd701-7c02-4e87-908f-2907e8ffdffe",
   "metadata": {},
   "outputs": [
    {
     "data": {
      "text/html": [
       "<div>\n",
       "<style scoped>\n",
       "    .dataframe tbody tr th:only-of-type {\n",
       "        vertical-align: middle;\n",
       "    }\n",
       "\n",
       "    .dataframe tbody tr th {\n",
       "        vertical-align: top;\n",
       "    }\n",
       "\n",
       "    .dataframe thead th {\n",
       "        text-align: right;\n",
       "    }\n",
       "</style>\n",
       "<table border=\"1\" class=\"dataframe\">\n",
       "  <thead>\n",
       "    <tr style=\"text-align: right;\">\n",
       "      <th></th>\n",
       "      <th>Quantity</th>\n",
       "      <th>Value</th>\n",
       "      <th>Weight</th>\n",
       "      <th>Date</th>\n",
       "    </tr>\n",
       "  </thead>\n",
       "  <tbody>\n",
       "    <tr>\n",
       "      <th>8190</th>\n",
       "      <td>4074</td>\n",
       "      <td>593.78</td>\n",
       "      <td>4022.42</td>\n",
       "      <td>14-10-2023</td>\n",
       "    </tr>\n",
       "    <tr>\n",
       "      <th>7842</th>\n",
       "      <td>4486</td>\n",
       "      <td>2423.99</td>\n",
       "      <td>844.48</td>\n",
       "      <td>29-03-2022</td>\n",
       "    </tr>\n",
       "    <tr>\n",
       "      <th>3424</th>\n",
       "      <td>2540</td>\n",
       "      <td>1700.01</td>\n",
       "      <td>1661.91</td>\n",
       "      <td>19-03-2022</td>\n",
       "    </tr>\n",
       "    <tr>\n",
       "      <th>800</th>\n",
       "      <td>1538</td>\n",
       "      <td>4927.95</td>\n",
       "      <td>2251.51</td>\n",
       "      <td>23-07-2023</td>\n",
       "    </tr>\n",
       "    <tr>\n",
       "      <th>4373</th>\n",
       "      <td>3243</td>\n",
       "      <td>7798.47</td>\n",
       "      <td>2556.14</td>\n",
       "      <td>10-09-2021</td>\n",
       "    </tr>\n",
       "    <tr>\n",
       "      <th>...</th>\n",
       "      <td>...</td>\n",
       "      <td>...</td>\n",
       "      <td>...</td>\n",
       "      <td>...</td>\n",
       "    </tr>\n",
       "    <tr>\n",
       "      <th>9189</th>\n",
       "      <td>6177</td>\n",
       "      <td>9990.37</td>\n",
       "      <td>2479.30</td>\n",
       "      <td>31-03-2021</td>\n",
       "    </tr>\n",
       "    <tr>\n",
       "      <th>13996</th>\n",
       "      <td>3604</td>\n",
       "      <td>4203.29</td>\n",
       "      <td>3067.16</td>\n",
       "      <td>22-07-2021</td>\n",
       "    </tr>\n",
       "    <tr>\n",
       "      <th>11333</th>\n",
       "      <td>8609</td>\n",
       "      <td>347.46</td>\n",
       "      <td>1241.66</td>\n",
       "      <td>07-06-2024</td>\n",
       "    </tr>\n",
       "    <tr>\n",
       "      <th>5110</th>\n",
       "      <td>7583</td>\n",
       "      <td>6202.65</td>\n",
       "      <td>1041.66</td>\n",
       "      <td>21-06-2020</td>\n",
       "    </tr>\n",
       "    <tr>\n",
       "      <th>3112</th>\n",
       "      <td>8203</td>\n",
       "      <td>5675.84</td>\n",
       "      <td>3789.44</td>\n",
       "      <td>25-11-2023</td>\n",
       "    </tr>\n",
       "  </tbody>\n",
       "</table>\n",
       "<p>2001 rows × 4 columns</p>\n",
       "</div>"
      ],
      "text/plain": [
       "       Quantity    Value   Weight        Date\n",
       "8190       4074   593.78  4022.42  14-10-2023\n",
       "7842       4486  2423.99   844.48  29-03-2022\n",
       "3424       2540  1700.01  1661.91  19-03-2022\n",
       "800        1538  4927.95  2251.51  23-07-2023\n",
       "4373       3243  7798.47  2556.14  10-09-2021\n",
       "...         ...      ...      ...         ...\n",
       "9189       6177  9990.37  2479.30  31-03-2021\n",
       "13996      3604  4203.29  3067.16  22-07-2021\n",
       "11333      8609   347.46  1241.66  07-06-2024\n",
       "5110       7583  6202.65  1041.66  21-06-2020\n",
       "3112       8203  5675.84  3789.44  25-11-2023\n",
       "\n",
       "[2001 rows x 4 columns]"
      ]
     },
     "execution_count": 234,
     "metadata": {},
     "output_type": "execute_result"
    }
   ],
   "source": [
    "# B3. Subset and Display the Non-Categorical Variables.\n",
    "non_cat_df=my_sample[['Quantity', 'Value', 'Weight', 'Date']]\n",
    "non_cat_df"
   ]
  },
  {
   "cell_type": "code",
   "execution_count": 235,
   "id": "3a50816c-cc7f-4506-b489-ec6ac69a5db1",
   "metadata": {},
   "outputs": [
    {
     "data": {
      "text/html": [
       "<div>\n",
       "<style scoped>\n",
       "    .dataframe tbody tr th:only-of-type {\n",
       "        vertical-align: middle;\n",
       "    }\n",
       "\n",
       "    .dataframe tbody tr th {\n",
       "        vertical-align: top;\n",
       "    }\n",
       "\n",
       "    .dataframe thead th {\n",
       "        text-align: right;\n",
       "    }\n",
       "</style>\n",
       "<table border=\"1\" class=\"dataframe\">\n",
       "  <thead>\n",
       "    <tr style=\"text-align: right;\">\n",
       "      <th></th>\n",
       "      <th>Quantity</th>\n",
       "      <th>Value</th>\n",
       "      <th>Weight</th>\n",
       "    </tr>\n",
       "  </thead>\n",
       "  <tbody>\n",
       "    <tr>\n",
       "      <th>count</th>\n",
       "      <td>2001.000000</td>\n",
       "      <td>2001.000000</td>\n",
       "      <td>2001.000000</td>\n",
       "    </tr>\n",
       "    <tr>\n",
       "      <th>mean</th>\n",
       "      <td>5118.019490</td>\n",
       "      <td>5148.601524</td>\n",
       "      <td>2508.192004</td>\n",
       "    </tr>\n",
       "    <tr>\n",
       "      <th>std</th>\n",
       "      <td>2838.393847</td>\n",
       "      <td>2856.427218</td>\n",
       "      <td>1449.064150</td>\n",
       "    </tr>\n",
       "    <tr>\n",
       "      <th>min</th>\n",
       "      <td>3.000000</td>\n",
       "      <td>106.150000</td>\n",
       "      <td>2.800000</td>\n",
       "    </tr>\n",
       "    <tr>\n",
       "      <th>25%</th>\n",
       "      <td>2634.000000</td>\n",
       "      <td>2751.060000</td>\n",
       "      <td>1228.610000</td>\n",
       "    </tr>\n",
       "    <tr>\n",
       "      <th>50%</th>\n",
       "      <td>5117.000000</td>\n",
       "      <td>5144.140000</td>\n",
       "      <td>2546.310000</td>\n",
       "    </tr>\n",
       "    <tr>\n",
       "      <th>75%</th>\n",
       "      <td>7638.000000</td>\n",
       "      <td>7682.480000</td>\n",
       "      <td>3757.400000</td>\n",
       "    </tr>\n",
       "    <tr>\n",
       "      <th>max</th>\n",
       "      <td>9989.000000</td>\n",
       "      <td>9995.060000</td>\n",
       "      <td>4996.290000</td>\n",
       "    </tr>\n",
       "  </tbody>\n",
       "</table>\n",
       "</div>"
      ],
      "text/plain": [
       "          Quantity        Value       Weight\n",
       "count  2001.000000  2001.000000  2001.000000\n",
       "mean   5118.019490  5148.601524  2508.192004\n",
       "std    2838.393847  2856.427218  1449.064150\n",
       "min       3.000000   106.150000     2.800000\n",
       "25%    2634.000000  2751.060000  1228.610000\n",
       "50%    5117.000000  5144.140000  2546.310000\n",
       "75%    7638.000000  7682.480000  3757.400000\n",
       "max    9989.000000  9995.060000  4996.290000"
      ]
     },
     "execution_count": 235,
     "metadata": {},
     "output_type": "execute_result"
    }
   ],
   "source": [
    "# B4. Display the Descriptive Statistics of the Non-Categorical Subset.\n",
    "non_cat_df.describe()"
   ]
  },
  {
   "cell_type": "code",
   "execution_count": 236,
   "id": "8c5278a5-2c77-4eb0-9b00-6c27f4c91d28",
   "metadata": {},
   "outputs": [
    {
     "data": {
      "text/html": [
       "<div>\n",
       "<style scoped>\n",
       "    .dataframe tbody tr th:only-of-type {\n",
       "        vertical-align: middle;\n",
       "    }\n",
       "\n",
       "    .dataframe tbody tr th {\n",
       "        vertical-align: top;\n",
       "    }\n",
       "\n",
       "    .dataframe thead th {\n",
       "        text-align: right;\n",
       "    }\n",
       "</style>\n",
       "<table border=\"1\" class=\"dataframe\">\n",
       "  <thead>\n",
       "    <tr style=\"text-align: right;\">\n",
       "      <th></th>\n",
       "      <th>Country</th>\n",
       "      <th>Product</th>\n",
       "      <th>Import_Export</th>\n",
       "      <th>Category</th>\n",
       "      <th>Port</th>\n",
       "      <th>Customs_Code</th>\n",
       "      <th>Shipping_Method</th>\n",
       "      <th>Supplier</th>\n",
       "      <th>Customer</th>\n",
       "      <th>Invoice_Number</th>\n",
       "      <th>Payment_Terms</th>\n",
       "    </tr>\n",
       "  </thead>\n",
       "  <tbody>\n",
       "    <tr>\n",
       "      <th>8190</th>\n",
       "      <td>Peru</td>\n",
       "      <td>rock</td>\n",
       "      <td>Export</td>\n",
       "      <td>Electronics</td>\n",
       "      <td>Sheenamouth</td>\n",
       "      <td>949374</td>\n",
       "      <td>Sea</td>\n",
       "      <td>Chase Inc</td>\n",
       "      <td>Samuel Miller</td>\n",
       "      <td>4878186</td>\n",
       "      <td>Net 30</td>\n",
       "    </tr>\n",
       "    <tr>\n",
       "      <th>7842</th>\n",
       "      <td>Armenia</td>\n",
       "      <td>real</td>\n",
       "      <td>Export</td>\n",
       "      <td>Clothing</td>\n",
       "      <td>Laraborough</td>\n",
       "      <td>178557</td>\n",
       "      <td>Air</td>\n",
       "      <td>Yang-Young</td>\n",
       "      <td>Diane Black</td>\n",
       "      <td>55424862</td>\n",
       "      <td>Net 30</td>\n",
       "    </tr>\n",
       "    <tr>\n",
       "      <th>3424</th>\n",
       "      <td>Hong Kong</td>\n",
       "      <td>get</td>\n",
       "      <td>Import</td>\n",
       "      <td>Clothing</td>\n",
       "      <td>Gilesstad</td>\n",
       "      <td>274568</td>\n",
       "      <td>Air</td>\n",
       "      <td>Green, Young and Wilkerson</td>\n",
       "      <td>Stephanie Vega</td>\n",
       "      <td>71911706</td>\n",
       "      <td>Cash on Delivery</td>\n",
       "    </tr>\n",
       "    <tr>\n",
       "      <th>800</th>\n",
       "      <td>Cyprus</td>\n",
       "      <td>clear</td>\n",
       "      <td>Import</td>\n",
       "      <td>Furniture</td>\n",
       "      <td>Crystalport</td>\n",
       "      <td>953921</td>\n",
       "      <td>Sea</td>\n",
       "      <td>Smith-Fisher</td>\n",
       "      <td>Nancy Rivera</td>\n",
       "      <td>80286476</td>\n",
       "      <td>Prepaid</td>\n",
       "    </tr>\n",
       "    <tr>\n",
       "      <th>4373</th>\n",
       "      <td>Equatorial Guinea</td>\n",
       "      <td>carry</td>\n",
       "      <td>Export</td>\n",
       "      <td>Electronics</td>\n",
       "      <td>Paulfurt</td>\n",
       "      <td>655413</td>\n",
       "      <td>Sea</td>\n",
       "      <td>White, Weiss and Simpson</td>\n",
       "      <td>Chris Morgan</td>\n",
       "      <td>68917212</td>\n",
       "      <td>Net 30</td>\n",
       "    </tr>\n",
       "    <tr>\n",
       "      <th>...</th>\n",
       "      <td>...</td>\n",
       "      <td>...</td>\n",
       "      <td>...</td>\n",
       "      <td>...</td>\n",
       "      <td>...</td>\n",
       "      <td>...</td>\n",
       "      <td>...</td>\n",
       "      <td>...</td>\n",
       "      <td>...</td>\n",
       "      <td>...</td>\n",
       "      <td>...</td>\n",
       "    </tr>\n",
       "    <tr>\n",
       "      <th>9189</th>\n",
       "      <td>China</td>\n",
       "      <td>article</td>\n",
       "      <td>Export</td>\n",
       "      <td>Clothing</td>\n",
       "      <td>New Sharonville</td>\n",
       "      <td>583721</td>\n",
       "      <td>Sea</td>\n",
       "      <td>Bush, Peters and Castro</td>\n",
       "      <td>Eric Kennedy</td>\n",
       "      <td>85087591</td>\n",
       "      <td>Prepaid</td>\n",
       "    </tr>\n",
       "    <tr>\n",
       "      <th>13996</th>\n",
       "      <td>Korea</td>\n",
       "      <td>free</td>\n",
       "      <td>Import</td>\n",
       "      <td>Electronics</td>\n",
       "      <td>South Adrian</td>\n",
       "      <td>409434</td>\n",
       "      <td>Air</td>\n",
       "      <td>James-Maynard</td>\n",
       "      <td>John Hernandez</td>\n",
       "      <td>8231875</td>\n",
       "      <td>Cash on Delivery</td>\n",
       "    </tr>\n",
       "    <tr>\n",
       "      <th>11333</th>\n",
       "      <td>Svalbard &amp; Jan Mayen Islands</td>\n",
       "      <td>air</td>\n",
       "      <td>Export</td>\n",
       "      <td>Clothing</td>\n",
       "      <td>Tonyaberg</td>\n",
       "      <td>527074</td>\n",
       "      <td>Sea</td>\n",
       "      <td>Davis, Wilson and Mcdonald</td>\n",
       "      <td>Alexis Hudson</td>\n",
       "      <td>76048689</td>\n",
       "      <td>Net 30</td>\n",
       "    </tr>\n",
       "    <tr>\n",
       "      <th>5110</th>\n",
       "      <td>Liechtenstein</td>\n",
       "      <td>probably</td>\n",
       "      <td>Export</td>\n",
       "      <td>Furniture</td>\n",
       "      <td>Port Jennifer</td>\n",
       "      <td>612624</td>\n",
       "      <td>Sea</td>\n",
       "      <td>Mueller-Johnson</td>\n",
       "      <td>Linda Anderson</td>\n",
       "      <td>74218897</td>\n",
       "      <td>Prepaid</td>\n",
       "    </tr>\n",
       "    <tr>\n",
       "      <th>3112</th>\n",
       "      <td>Christmas Island</td>\n",
       "      <td>few</td>\n",
       "      <td>Import</td>\n",
       "      <td>Electronics</td>\n",
       "      <td>Ashleyton</td>\n",
       "      <td>387754</td>\n",
       "      <td>Land</td>\n",
       "      <td>Pruitt Ltd</td>\n",
       "      <td>Alexis Kennedy</td>\n",
       "      <td>65637952</td>\n",
       "      <td>Net 30</td>\n",
       "    </tr>\n",
       "  </tbody>\n",
       "</table>\n",
       "<p>2001 rows × 11 columns</p>\n",
       "</div>"
      ],
      "text/plain": [
       "                            Country   Product Import_Export     Category  \\\n",
       "8190                           Peru      rock        Export  Electronics   \n",
       "7842                        Armenia      real        Export     Clothing   \n",
       "3424                      Hong Kong       get        Import     Clothing   \n",
       "800                          Cyprus     clear        Import    Furniture   \n",
       "4373              Equatorial Guinea     carry        Export  Electronics   \n",
       "...                             ...       ...           ...          ...   \n",
       "9189                          China   article        Export     Clothing   \n",
       "13996                         Korea      free        Import  Electronics   \n",
       "11333  Svalbard & Jan Mayen Islands       air        Export     Clothing   \n",
       "5110                  Liechtenstein  probably        Export    Furniture   \n",
       "3112               Christmas Island       few        Import  Electronics   \n",
       "\n",
       "                  Port  Customs_Code Shipping_Method  \\\n",
       "8190       Sheenamouth        949374             Sea   \n",
       "7842       Laraborough        178557             Air   \n",
       "3424         Gilesstad        274568             Air   \n",
       "800        Crystalport        953921             Sea   \n",
       "4373          Paulfurt        655413             Sea   \n",
       "...                ...           ...             ...   \n",
       "9189   New Sharonville        583721             Sea   \n",
       "13996     South Adrian        409434             Air   \n",
       "11333        Tonyaberg        527074             Sea   \n",
       "5110     Port Jennifer        612624             Sea   \n",
       "3112         Ashleyton        387754            Land   \n",
       "\n",
       "                         Supplier        Customer  Invoice_Number  \\\n",
       "8190                    Chase Inc   Samuel Miller         4878186   \n",
       "7842                   Yang-Young     Diane Black        55424862   \n",
       "3424   Green, Young and Wilkerson  Stephanie Vega        71911706   \n",
       "800                  Smith-Fisher    Nancy Rivera        80286476   \n",
       "4373     White, Weiss and Simpson    Chris Morgan        68917212   \n",
       "...                           ...             ...             ...   \n",
       "9189      Bush, Peters and Castro    Eric Kennedy        85087591   \n",
       "13996               James-Maynard  John Hernandez         8231875   \n",
       "11333  Davis, Wilson and Mcdonald   Alexis Hudson        76048689   \n",
       "5110              Mueller-Johnson  Linda Anderson        74218897   \n",
       "3112                   Pruitt Ltd  Alexis Kennedy        65637952   \n",
       "\n",
       "          Payment_Terms  \n",
       "8190             Net 30  \n",
       "7842             Net 30  \n",
       "3424   Cash on Delivery  \n",
       "800             Prepaid  \n",
       "4373             Net 30  \n",
       "...                 ...  \n",
       "9189            Prepaid  \n",
       "13996  Cash on Delivery  \n",
       "11333            Net 30  \n",
       "5110            Prepaid  \n",
       "3112             Net 30  \n",
       "\n",
       "[2001 rows x 11 columns]"
      ]
     },
     "execution_count": 236,
     "metadata": {},
     "output_type": "execute_result"
    }
   ],
   "source": [
    "# B5. Subset and Display the Categorical Variables.\n",
    "cat_subset=my_sample[['Country', 'Product', 'Import_Export', 'Category', 'Port', 'Customs_Code', 'Shipping_Method', 'Supplier', 'Customer', 'Invoice_Number' , 'Payment_Terms']]\n",
    "cat_subset"
   ]
  },
  {
   "cell_type": "code",
   "execution_count": 237,
   "id": "218b7e9e-4292-48d3-a916-aefe139809fa",
   "metadata": {},
   "outputs": [
    {
     "name": "stdout",
     "output_type": "stream",
     "text": [
      "Country count:\n",
      " Country\n",
      "Suriname                     17\n",
      "Syrian Arab Republic         16\n",
      "Sweden                       16\n",
      "Pakistan                     16\n",
      "Dominican Republic           15\n",
      "                             ..\n",
      "San Marino                    3\n",
      "Faroe Islands                 3\n",
      "Saint Pierre and Miquelon     3\n",
      "Tuvalu                        2\n",
      "Samoa                         2\n",
      "Name: count, Length: 243, dtype: int64\n"
     ]
    }
   ],
   "source": [
    "# B6. Display the Descriptive Statistics of Country [Categorical Variables].\n",
    "country_stats = my_sample['Country'].value_counts()\n",
    "print(\"Country count:\\n\", country_stats)"
   ]
  },
  {
   "cell_type": "code",
   "execution_count": 238,
   "id": "3f4f79dc-f89a-498c-b1c3-36e6b2e6e31e",
   "metadata": {},
   "outputs": [
    {
     "name": "stdout",
     "output_type": "stream",
     "text": [
      "Import_Export Statistics:\n",
      " Import_Export\n",
      "Import    1016\n",
      "Export     985\n",
      "Name: count, dtype: int64\n"
     ]
    }
   ],
   "source": [
    "# B7. Display the Descriptive Statistics of Import Export [Categorical Variables].\n",
    "import_export_stats = my_sample['Import_Export'].value_counts()\n",
    "print(\"Import_Export Statistics:\\n\", import_export_stats)"
   ]
  },
  {
   "cell_type": "code",
   "execution_count": 239,
   "id": "38a32ba2-2ec7-403e-945e-b81aa9d66190",
   "metadata": {},
   "outputs": [
    {
     "name": "stdout",
     "output_type": "stream",
     "text": [
      "Product Statistics:\n",
      " Product\n",
      "probably     7\n",
      "data         7\n",
      "police       7\n",
      "drop         7\n",
      "with         7\n",
      "            ..\n",
      "evening      1\n",
      "five         1\n",
      "be           1\n",
      "different    1\n",
      "free         1\n",
      "Name: count, Length: 859, dtype: int64\n"
     ]
    }
   ],
   "source": [
    "# B8. Display the Descriptive Statistics of Product [Categorical Variables].\n",
    "product_stats = my_sample['Product'].value_counts()\n",
    "print(\"Product Statistics:\\n\", product_stats)"
   ]
  },
  {
   "cell_type": "code",
   "execution_count": 240,
   "id": "b5122505-0c5c-412c-a468-e236738ef9a8",
   "metadata": {},
   "outputs": [
    {
     "data": {
      "text/plain": [
       "Import_Export\n",
       "Export    5111122\n",
       "Import    5130035\n",
       "Name: Quantity, dtype: int64"
      ]
     },
     "execution_count": 240,
     "metadata": {},
     "output_type": "execute_result"
    }
   ],
   "source": [
    "# C1. Display What is the total quantity of imports and exports\n",
    "total_quantity = my_sample.groupby('Import_Export')['Quantity'].sum()\n",
    "total_quantity "
   ]
  },
  {
   "cell_type": "code",
   "execution_count": 241,
   "id": "0668415d-a63e-4977-9185-778adcba28b0",
   "metadata": {},
   "outputs": [
    {
     "name": "stdout",
     "output_type": "stream",
     "text": [
      "Top Three Products by Quantity Sold:\n",
      " Product\n",
      "fact        42638\n",
      "probably    40509\n",
      "resource    39573\n",
      "Name: Quantity, dtype: int64\n"
     ]
    }
   ],
   "source": [
    "# C2. Disply what are the top three products by quantity sold?\n",
    "top_products = my_sample.groupby('Product')['Quantity'].sum().nlargest(3)\n",
    "print(\"Top Three Products by Quantity Sold:\\n\",top_products)"
   ]
  },
  {
   "cell_type": "code",
   "execution_count": 242,
   "id": "806f423c-1e08-4dc0-9074-3649a616fa70",
   "metadata": {},
   "outputs": [
    {
     "data": {
      "text/plain": [
       "Import_Export\n",
       "Export    4973766.62\n",
       "Import    5328585.03\n",
       "Name: Value, dtype: float64"
      ]
     },
     "execution_count": 242,
     "metadata": {},
     "output_type": "execute_result"
    }
   ],
   "source": [
    "# C3. Display What is the total value of imports and exports\n",
    "total_value = my_sample.groupby('Import_Export')['Value'].sum()\n",
    "total_value"
   ]
  },
  {
   "cell_type": "code",
   "execution_count": 243,
   "id": "0b27c80b-c128-4054-bed2-ad00881681e6",
   "metadata": {},
   "outputs": [
    {
     "name": "stdout",
     "output_type": "stream",
     "text": [
      "Country with higest number of transactions: Suriname\n"
     ]
    }
   ],
   "source": [
    "# C4. Display Which country has the highest number of transactions (import/export)?\n",
    "transactions_per_country = my_sample['Country'].value_counts().idxmax()\n",
    "print(\"Country with higest number of transactions:\",transactions_per_country)"
   ]
  },
  {
   "cell_type": "code",
   "execution_count": 244,
   "id": "eef6051f-d5e7-4dc3-9a6f-4d56d57d0461",
   "metadata": {},
   "outputs": [
    {
     "name": "stdout",
     "output_type": "stream",
     "text": [
      "Most commonly exported product: guess\n"
     ]
    }
   ],
   "source": [
    "# C5. Display What is the most commonly exported product\n",
    "most_exported_product = my_sample[my_sample['Import_Export'] == 'Export']['Product'].value_counts().idxmax()\n",
    "print(\"Most commonly exported product:\",most_exported_product)"
   ]
  },
  {
   "cell_type": "code",
   "execution_count": 245,
   "id": "b59ba82b-a440-4cfd-8fdd-0cb1594065cc",
   "metadata": {},
   "outputs": [
    {
     "data": {
      "text/plain": [
       "Country\n",
       "Afghanistan          4773.588000\n",
       "Albania              6258.166667\n",
       "Algeria              4284.110000\n",
       "American Samoa       5233.676667\n",
       "Andorra              5398.887500\n",
       "                        ...     \n",
       "Wallis and Futuna    4984.548333\n",
       "Western Sahara       4304.207143\n",
       "Yemen                5882.890909\n",
       "Zambia               4826.892000\n",
       "Zimbabwe             4798.302000\n",
       "Name: Value, Length: 243, dtype: float64"
      ]
     },
     "execution_count": 245,
     "metadata": {},
     "output_type": "execute_result"
    }
   ],
   "source": [
    "# C6. Display What is the average value of an import/export transaction per country\n",
    "avg_value_per_country = my_sample.groupby('Country')['Value'].mean()\n",
    "avg_value_per_country"
   ]
  },
  {
   "cell_type": "code",
   "execution_count": 246,
   "id": "e90420bc-6e02-4188-835d-d59e565aacb6",
   "metadata": {},
   "outputs": [
    {
     "name": "stdout",
     "output_type": "stream",
     "text": [
      "Most frequently used shipping method: Land\n"
     ]
    }
   ],
   "source": [
    "# C7. Display Which shipping method is used most frequently\n",
    "most_used_shipping_method = my_sample['Shipping_Method'].value_counts().idxmax()\n",
    "print(\"Most frequently used shipping method:\",most_used_shipping_method)"
   ]
  },
  {
   "cell_type": "code",
   "execution_count": 247,
   "id": "771a9a96-3709-47b3-921e-5159c575683a",
   "metadata": {},
   "outputs": [
    {
     "data": {
      "text/plain": [
       "Shipping_Method\n",
       "Air     2582.406188\n",
       "Land    2495.461832\n",
       "Sea     2449.800784\n",
       "Name: Weight, dtype: float64"
      ]
     },
     "execution_count": 247,
     "metadata": {},
     "output_type": "execute_result"
    }
   ],
   "source": [
    "# C8. Display What is the average weight of products shipped via different shipping methods\n",
    "avg_weight_per_shipping_method = my_sample.groupby('Shipping_Method')['Weight'].mean()\n",
    "avg_weight_per_shipping_method"
   ]
  },
  {
   "cell_type": "code",
   "execution_count": 248,
   "id": "36f727e5-3dca-4445-8445-29cd9893a6ed",
   "metadata": {},
   "outputs": [
    {
     "data": {
      "text/plain": [
       "Category\n",
       "Machinery      421\n",
       "Electronics    399\n",
       "Toys           398\n",
       "Furniture      397\n",
       "Clothing       386\n",
       "Name: count, dtype: int64"
      ]
     },
     "execution_count": 248,
     "metadata": {},
     "output_type": "execute_result"
    }
   ],
   "source": [
    "# C9. Display How many transactions have been made for each product category\n",
    "transactions_per_category = my_sample['Category'].value_counts()\n",
    "transactions_per_category"
   ]
  },
  {
   "cell_type": "code",
   "execution_count": 249,
   "id": "bb5d8022-99bb-48cc-b3cc-8733d881071b",
   "metadata": {},
   "outputs": [
    {
     "name": "stdout",
     "output_type": "stream",
     "text": [
      "Most frequently used payment term: Prepaid\n"
     ]
    }
   ],
   "source": [
    "# C10. Display What is the most frequent payment term used?\n",
    "most_frequent_payment_term = my_sample['Payment_Terms'].value_counts().idxmax()\n",
    "print(\"Most frequently used payment term:\",most_frequent_payment_term)"
   ]
  },
  {
   "cell_type": "code",
   "execution_count": 250,
   "id": "021aa1f8-5f7d-47e0-875f-95883f8dd8ba",
   "metadata": {},
   "outputs": [
    {
     "name": "stdout",
     "output_type": "stream",
     "text": [
      "The supplier who has conducted the higest number of transactions: Miller and Sons\n"
     ]
    }
   ],
   "source": [
    "# C11. Display Which supplier has conducted the highest number of transactions?\n",
    "top_supplier = my_sample['Supplier'].value_counts().idxmax()\n",
    "print(\"The supplier who has conducted the higest number of transactions:\",top_supplier)"
   ]
  },
  {
   "cell_type": "code",
   "execution_count": 251,
   "id": "9300dcf9-0f95-4135-a60a-bbf74ea81411",
   "metadata": {},
   "outputs": [
    {
     "data": {
      "text/plain": [
       "Port\n",
       "West David          5\n",
       "East Michael        4\n",
       "South Stephanie     4\n",
       "New Michael         4\n",
       "New James           4\n",
       "                   ..\n",
       "Richardsonton       1\n",
       "North Loganburgh    1\n",
       "Kaiserside          1\n",
       "West Sheryl         1\n",
       "Ashleyton           1\n",
       "Name: count, Length: 1851, dtype: int64"
      ]
     },
     "execution_count": 251,
     "metadata": {},
     "output_type": "execute_result"
    }
   ],
   "source": [
    "# C12. Display How many transactions were made in each port?\n",
    "transactions_per_port = my_sample['Port'].value_counts()\n",
    "transactions_per_port"
   ]
  },
  {
   "cell_type": "code",
   "execution_count": 252,
   "id": "33b162d5-99de-45ef-8a95-471bea8a9043",
   "metadata": {},
   "outputs": [
    {
     "data": {
      "text/plain": [
       "Import_Export\n",
       "Export    2424865.95\n",
       "Import    2594026.25\n",
       "Name: Weight, dtype: float64"
      ]
     },
     "execution_count": 252,
     "metadata": {},
     "output_type": "execute_result"
    }
   ],
   "source": [
    "# C13. Display What is the total weight of exported products versus imported products\n",
    "total_weight_by_import_export = my_sample.groupby('Import_Export')['Weight'].sum()\n",
    "total_weight_by_import_export"
   ]
  },
  {
   "cell_type": "code",
   "execution_count": 253,
   "id": "6166da9e-bc3b-4220-bc9b-dfa96544e1ec",
   "metadata": {},
   "outputs": [
    {
     "name": "stdout",
     "output_type": "stream",
     "text": [
      "Average Quantity per Transaction: 5118.019490254873\n"
     ]
    }
   ],
   "source": [
    "# C14. What is the average quantity per transaction?\n",
    "average_quantity_per_transaction = my_sample['Quantity'].mean()\n",
    "print(\"Average Quantity per Transaction:\", average_quantity_per_transaction)"
   ]
  },
  {
   "cell_type": "code",
   "execution_count": 254,
   "id": "68bb2df8-11e7-4759-b400-a742e5a5ee88",
   "metadata": {},
   "outputs": [
    {
     "data": {
      "text/plain": [
       "Country\n",
       "Afghanistan          3036.000000\n",
       "Albania              5216.333333\n",
       "Algeria              5018.571429\n",
       "American Samoa       5086.555556\n",
       "Andorra              3882.500000\n",
       "                        ...     \n",
       "Wallis and Futuna    6087.833333\n",
       "Western Sahara       5099.000000\n",
       "Yemen                3474.545455\n",
       "Zambia               4962.000000\n",
       "Zimbabwe             5942.400000\n",
       "Name: Quantity, Length: 243, dtype: float64"
      ]
     },
     "execution_count": 254,
     "metadata": {},
     "output_type": "execute_result"
    }
   ],
   "source": [
    "# C15. DisplayWhat is the average quantity of imports and exports per country?\n",
    "avg_quantity_per_country = my_sample.groupby('Country')['Quantity'].mean()\n",
    "avg_quantity_per_country"
   ]
  },
  {
   "cell_type": "code",
   "execution_count": 255,
   "id": "36a72646-84d2-468f-bd79-242c016edd03",
   "metadata": {},
   "outputs": [
    {
     "name": "stdout",
     "output_type": "stream",
     "text": [
      "The customer with the highest value: Jennifer Smith\n"
     ]
    }
   ],
   "source": [
    "# C16. Display Which customer has the highest value of transactions?\n",
    "top_customer = my_sample.groupby('Customer')['Value'].sum().idxmax()\n",
    "print(\"The customer with the highest value:\",top_customer)"
   ]
  },
  {
   "cell_type": "code",
   "execution_count": 256,
   "id": "371caf6e-e195-4b4b-bdf9-7e236236c9ef",
   "metadata": {},
   "outputs": [
    {
     "data": {
      "text/plain": [
       "Category\n",
       "Clothing       1992557.44\n",
       "Electronics    2158550.01\n",
       "Furniture      2001266.46\n",
       "Machinery      2089875.58\n",
       "Toys           2060102.16\n",
       "Name: Value, dtype: float64"
      ]
     },
     "execution_count": 256,
     "metadata": {},
     "output_type": "execute_result"
    }
   ],
   "source": [
    "# C17. Display How does the value of transactions vary by product category?\n",
    "value_by_category = my_sample.groupby('Category')['Value'].sum()\n",
    "value_by_category"
   ]
  },
  {
   "cell_type": "code",
   "execution_count": 257,
   "id": "b025d7dd-d1c8-45d9-929a-9f6754dcfee8",
   "metadata": {},
   "outputs": [
    {
     "name": "stdout",
     "output_type": "stream",
     "text": [
      "The product category has the highest average weight: Furniture\n"
     ]
    }
   ],
   "source": [
    "# C18. Display Which product category has the highest average weight?\n",
    "highest_avg_weight_category = my_sample.groupby('Category')['Weight'].mean().idxmax()\n",
    "print(\"The product category has the highest average weight:\" ,highest_avg_weight_category)"
   ]
  },
  {
   "cell_type": "code",
   "execution_count": 258,
   "id": "fc257ce0-aeaf-4aa2-8520-9e4162510c62",
   "metadata": {},
   "outputs": [
    {
     "name": "stdout",
     "output_type": "stream",
     "text": [
      "The most frequent customs code used in transactions: 871085\n"
     ]
    }
   ],
   "source": [
    "# C19. Display What is the most frequent customs code used in transactions?\n",
    "most_frequent_customs_code = my_sample['Customs_Code'].value_counts().idxmax()\n",
    "print(\"The most frequent customs code used in transactions:\", most_frequent_customs_code)"
   ]
  },
  {
   "cell_type": "code",
   "execution_count": 259,
   "id": "0ef2b046-f8cc-4e0b-ae35-9180297e1d7e",
   "metadata": {},
   "outputs": [
    {
     "name": "stdout",
     "output_type": "stream",
     "text": [
      "Total quantity vary month by month: Date\n",
      "2019-09    109411\n",
      "2019-10    181576\n",
      "2019-11    102158\n",
      "2019-12    136068\n",
      "2020-01    200384\n",
      "            ...  \n",
      "2024-05    141133\n",
      "2024-06    161833\n",
      "2024-07    171542\n",
      "2024-08    166627\n",
      "2024-09     27602\n",
      "Freq: M, Name: Quantity, Length: 61, dtype: int64\n"
     ]
    }
   ],
   "source": [
    "# C20. Display How does the total quantity vary month by month?\n",
    "my_sample['Date'] = pd.to_datetime(my_sample['Date'], format='%d-%m-%Y')\n",
    "total_quantity_per_month = df.groupby(my_sample['Date'].dt.to_period('M'))['Quantity'].sum()\n",
    "print(\"Total quantity vary month by month:\", total_quantity_per_month)"
   ]
  },
  {
   "cell_type": "code",
   "execution_count": 260,
   "id": "dff6a769-11c2-4608-bf54-917e90f3b144",
   "metadata": {},
   "outputs": [
    {
     "data": {
      "text/plain": [
       "(Shipping_Method\n",
       " Air     3331722.43\n",
       " Land    3577343.79\n",
       " Sea     3393285.43\n",
       " Name: Value, dtype: float64,\n",
       " Payment_Terms\n",
       " Cash on Delivery    2570076.86\n",
       " Net 30              2439246.66\n",
       " Net 60              2618363.55\n",
       " Prepaid             2674664.58\n",
       " Name: Value, dtype: float64)"
      ]
     },
     "execution_count": 260,
     "metadata": {},
     "output_type": "execute_result"
    }
   ],
   "source": [
    "# C20. Display What is the distribution of transaction values across different shipping methods?\n",
    "value_distribution_by_shipping = my_sample.groupby('Shipping_Method')['Value'].sum()\n",
    "value_by_payment_terms = my_sample.groupby('Payment_Terms')['Value'].sum()\n",
    "value_distribution_by_shipping, value_by_payment_terms"
   ]
  },
  {
   "cell_type": "code",
   "execution_count": 261,
   "id": "8f2fd9e5-9560-4e35-ae5f-e8d6fc2e69b5",
   "metadata": {},
   "outputs": [
    {
     "data": {
      "text/plain": [
       "Payment_Terms\n",
       "Cash on Delivery    2570076.86\n",
       "Net 30              2439246.66\n",
       "Net 60              2618363.55\n",
       "Prepaid             2674664.58\n",
       "Name: Value, dtype: float64"
      ]
     },
     "execution_count": 261,
     "metadata": {},
     "output_type": "execute_result"
    }
   ],
   "source": [
    "# C22. Display what is the total value of transactions grouped by payment terms\n",
    "value_by_payment_terms = my_sample.groupby('Payment_Terms')['Value'].sum()\n",
    "value_by_payment_terms"
   ]
  },
  {
   "cell_type": "code",
   "execution_count": 262,
   "id": "96b01bb1-fa83-48ee-8c71-d84adceabd2a",
   "metadata": {},
   "outputs": [
    {
     "name": "stdout",
     "output_type": "stream",
     "text": [
      "Unique Transaction IDs: 2001\n",
      "Duplicate Transaction IDs: 0\n"
     ]
    }
   ],
   "source": [
    "# C23. How many unique Transaction IDs are there, and do any appear more than once?\n",
    "unique_transaction_ids = my_sample['Transaction_ID'].nunique()\n",
    "duplicate_transaction_ids = my_sample['Transaction_ID'].duplicated().sum()\n",
    "print(\"Unique Transaction IDs:\", unique_transaction_ids)\n",
    "print(\"Duplicate Transaction IDs:\", duplicate_transaction_ids)"
   ]
  },
  {
   "cell_type": "code",
   "execution_count": 263,
   "id": "c5d5ed6d-4712-43b2-b4fa-35a0fe10d820",
   "metadata": {},
   "outputs": [
    {
     "name": "stdout",
     "output_type": "stream",
     "text": [
      "Number of Unique Products: 859\n"
     ]
    }
   ],
   "source": [
    "# C24. How many unique products are listed in the dataset?\n",
    "unique_products = my_sample['Product'].nunique()\n",
    "print(\"Number of Unique Products:\", unique_products)"
   ]
  },
  {
   "cell_type": "code",
   "execution_count": 264,
   "id": "855e85d1-2dd8-49e7-a6cb-643d6bca3974",
   "metadata": {},
   "outputs": [
    {
     "name": "stdout",
     "output_type": "stream",
     "text": [
      "Port with Most Transactions: West David\n"
     ]
    }
   ],
   "source": [
    "# C25. Which port is associated with the most transactions?\n",
    "most_transactions_port = my_sample['Port'].value_counts().idxmax()\n",
    "print(f\"Port with Most Transactions: {most_transactions_port}\")"
   ]
  },
  {
   "cell_type": "code",
   "execution_count": 265,
   "id": "3fc39f99-022f-4222-9847-543f1b1c2105",
   "metadata": {},
   "outputs": [
    {
     "name": "stdout",
     "output_type": "stream",
     "text": [
      "Transactions by Port:\n",
      " Port\n",
      "West David          5\n",
      "East Michael        4\n",
      "South Stephanie     4\n",
      "New Michael         4\n",
      "New James           4\n",
      "                   ..\n",
      "Richardsonton       1\n",
      "North Loganburgh    1\n",
      "Kaiserside          1\n",
      "West Sheryl         1\n",
      "Ashleyton           1\n",
      "Name: count, Length: 1851, dtype: int64\n"
     ]
    }
   ],
   "source": [
    "# C26. How does the number of transactions vary by port?\n",
    "transactions_by_port = my_sample['Port'].value_counts()\n",
    "print(\"Transactions by Port:\\n\", transactions_by_port)"
   ]
  },
  {
   "cell_type": "code",
   "execution_count": 266,
   "id": "a121994c-38b5-47bf-aab1-9324b0101109",
   "metadata": {},
   "outputs": [
    {
     "name": "stdout",
     "output_type": "stream",
     "text": [
      "Customs Code Distribution:\n",
      " Customs_Code\n",
      "871085    2\n",
      "406799    2\n",
      "962651    2\n",
      "949374    1\n",
      "323675    1\n",
      "         ..\n",
      "200678    1\n",
      "530837    1\n",
      "871627    1\n",
      "798354    1\n",
      "387754    1\n",
      "Name: count, Length: 1998, dtype: int64\n"
     ]
    }
   ],
   "source": [
    "# C27. What is the distribution of customs codes across the dataset?\n",
    "customs_code_distribution = my_sample['Customs_Code'].value_counts()\n",
    "print(\"Customs Code Distribution:\\n\", customs_code_distribution)"
   ]
  },
  {
   "cell_type": "code",
   "execution_count": 267,
   "id": "e1ad64ef-0b02-4855-be63-a456e2fabcc1",
   "metadata": {},
   "outputs": [
    {
     "name": "stdout",
     "output_type": "stream",
     "text": [
      "Most Common Customs Code: 871085\n"
     ]
    }
   ],
   "source": [
    "# C28. Are there any customs codes that are particularly common?\n",
    "most_common_customs_code = my_sample['Customs_Code'].value_counts().idxmax()\n",
    "print(f\"Most Common Customs Code: {most_common_customs_code}\")"
   ]
  },
  {
   "cell_type": "code",
   "execution_count": 268,
   "id": "b9413b28-a930-4fe1-bc9c-d204862d889f",
   "metadata": {},
   "outputs": [
    {
     "name": "stdout",
     "output_type": "stream",
     "text": [
      "Correlation between Weight and Transaction Value:\n",
      "           Weight     Value\n",
      "Weight  1.000000  0.022238\n",
      "Value   0.022238  1.000000\n"
     ]
    }
   ],
   "source": [
    "# C29. Is there a correlation between weight and transaction value?\n",
    "correlation_weight_value = my_sample[['Weight', 'Value']].corr()\n",
    "print(\"Correlation between Weight and Transaction Value:\\n\", correlation_weight_value)"
   ]
  },
  {
   "cell_type": "code",
   "execution_count": 269,
   "id": "3b74417a-005e-48a3-876f-52eb209b0258",
   "metadata": {},
   "outputs": [
    {
     "name": "stdout",
     "output_type": "stream",
     "text": [
      "Percentage of Transactions by Shipping Method:\n",
      " Shipping_Method\n",
      "Land    33.833083\n",
      "Sea     33.783108\n",
      "Air     32.383808\n",
      "Name: proportion, dtype: float64\n"
     ]
    }
   ],
   "source": [
    "# C30. What percentage of transactions use each shipping method?\n",
    "shipping_method_percentage = my_sample['Shipping_Method'].value_counts(normalize=True) * 100\n",
    "print(\"Percentage of Transactions by Shipping Method:\\n\", shipping_method_percentage)"
   ]
  },
  {
   "cell_type": "code",
   "execution_count": 270,
   "id": "30c51ae4-9494-42a4-b62e-0ab88ed426af",
   "metadata": {},
   "outputs": [
    {
     "name": "stdout",
     "output_type": "stream",
     "text": [
      "Shipping Method with Highest Average Transaction Value: Land\n"
     ]
    }
   ],
   "source": [
    "# C31. Which shipping method corresponds to the highest average transaction value?\n",
    "highest_avg_value_shipping_method = my_sample.groupby('Shipping_Method')['Value'].mean().idxmax()\n",
    "print(f\"Shipping Method with Highest Average Transaction Value: {highest_avg_value_shipping_method}\")"
   ]
  },
  {
   "cell_type": "code",
   "execution_count": 271,
   "id": "971a34e1-2d2c-40b3-8d2a-3c1e6799f12d",
   "metadata": {},
   "outputs": [
    {
     "name": "stdout",
     "output_type": "stream",
     "text": [
      "Average Transaction Value by Payment Terms:\n",
      " Payment_Terms\n",
      "Cash on Delivery    5029.504618\n",
      "Net 30              5212.065513\n",
      "Net 60              5154.258957\n",
      "Prepaid             5203.627588\n",
      "Name: Value, dtype: float64\n"
     ]
    }
   ],
   "source": [
    "# C32. Is there a difference in transaction value based on payment terms?\n",
    "avg_value_by_payment_terms = my_sample.groupby('Payment_Terms')['Value'].mean()\n",
    "print(\"Average Transaction Value by Payment Terms:\\n\", avg_value_by_payment_terms)"
   ]
  },
  {
   "cell_type": "code",
   "execution_count": 272,
   "id": "0657dc4f-aa57-4e42-9fd9-301485dd172d",
   "metadata": {},
   "outputs": [
    {
     "name": "stdout",
     "output_type": "stream",
     "text": [
      "Transactions in the Last Quarter: 497\n"
     ]
    }
   ],
   "source": [
    "# C33. How many transactions were completed in the last quarter of the year?\n",
    "last_quarter_transactions = my_sample[(my_sample['Date'].dt.month >= 10) & (my_sample['Date'].dt.month <= 12)]['Transaction_ID'].count()\n",
    "print(f\"Transactions in the Last Quarter: {last_quarter_transactions}\")"
   ]
  },
  {
   "cell_type": "code",
   "execution_count": 273,
   "id": "e76df0a3-2b9e-41c4-8b91-836cc1c78542",
   "metadata": {},
   "outputs": [
    {
     "name": "stdout",
     "output_type": "stream",
     "text": [
      "Transaction ID Patterns (Count of Each):\n",
      " Transaction_ID\n",
      "b2e0a53c-4169-4ee2-b93a-3af02ce2c544    1\n",
      "3dfa0cf9-8420-4be5-bc6c-7566f03d5f43    1\n",
      "567179ef-4f36-4b31-a442-afbb8d291438    1\n",
      "232b2901-3c49-4dcd-ab00-d53ba2aa8c4a    1\n",
      "90ebd333-ef2a-438e-9127-82f1cf855031    1\n",
      "Name: count, dtype: int64\n"
     ]
    }
   ],
   "source": [
    "# C34. Are there any patterns in Transaction IDs that suggest batch processing?\n",
    "transaction_id_pattern = my_sample['Transaction_ID'].value_counts()  # Look for repeating patterns\n",
    "print(\"Transaction ID Patterns (Count of Each):\\n\", transaction_id_pattern.head())"
   ]
  },
  {
   "cell_type": "code",
   "execution_count": 274,
   "id": "1d47942b-b7c7-44fa-a9ca-ddd45c297481",
   "metadata": {},
   "outputs": [
    {
     "name": "stdout",
     "output_type": "stream",
     "text": [
      "Top Three Countries' Transaction Volume: 49, Rest: 1952\n"
     ]
    }
   ],
   "source": [
    "# C35. How does the transaction volume from the top three countries compare with the rest?\n",
    "top_three_countries = my_sample['Country'].value_counts().nlargest(3).index\n",
    "top_three_volume = my_sample[my_sample['Country'].isin(top_three_countries)]['Transaction_ID'].count()\n",
    "rest_countries_volume = my_sample[~my_sample['Country'].isin(top_three_countries)]['Transaction_ID'].count()\n",
    "print(f\"Top Three Countries' Transaction Volume: {top_three_volume}, Rest: {rest_countries_volume}\")"
   ]
  },
  {
   "cell_type": "code",
   "execution_count": 275,
   "id": "12e2a4d7-ad76-4ef4-afcb-56f5557b8032",
   "metadata": {},
   "outputs": [
    {
     "name": "stdout",
     "output_type": "stream",
     "text": [
      "Percentage of Total Transactions by Top Five Countries:\n",
      " Country\n",
      "Suriname                0.849575\n",
      "Syrian Arab Republic    0.799600\n",
      "Sweden                  0.799600\n",
      "Pakistan                0.799600\n",
      "Dominican Republic      0.749625\n",
      "Name: proportion, dtype: float64\n"
     ]
    }
   ],
   "source": [
    "# C36. What percentage of total transactions do the top five countries represent?\n",
    "top_five_countries_percentage = my_sample['Country'].value_counts(normalize=True).nlargest(5) * 100\n",
    "print(\"Percentage of Total Transactions by Top Five Countries:\\n\", top_five_countries_percentage)"
   ]
  },
  {
   "cell_type": "code",
   "execution_count": 276,
   "id": "bc23dbea-7b98-4d55-9e37-d32df36a93d9",
   "metadata": {},
   "outputs": [
    {
     "name": "stdout",
     "output_type": "stream",
     "text": [
      "Products with Highest Profit Margins:\n",
      " Product\n",
      "official    693.790732\n",
      "look        136.650884\n",
      "size        119.852255\n",
      "budget       71.852549\n",
      "they         60.898661\n",
      "Name: Profit_Margin, dtype: float64\n"
     ]
    }
   ],
   "source": [
    "# C37. Which products have the highest profit margins based on value and quantity?\n",
    "my_sample['Profit_Margin'] = my_sample['Value'] / my_sample['Quantity']  # Assuming profit margin is value per unit quantity\n",
    "highest_profit_margin_products = my_sample.groupby('Product')['Profit_Margin'].mean().nlargest(5)\n",
    "print(\"Products with Highest Profit Margins:\\n\", highest_profit_margin_products)"
   ]
  },
  {
   "cell_type": "code",
   "execution_count": 277,
   "id": "70ed5d21-8721-4906-9b0e-914040a4f975",
   "metadata": {},
   "outputs": [
    {
     "name": "stdout",
     "output_type": "stream",
     "text": [
      "Import to Export Ratio:\n",
      " Import_Export\n",
      "Import    50.774613\n",
      "Export    49.225387\n",
      "Name: proportion, dtype: float64\n"
     ]
    }
   ],
   "source": [
    "# C38. What is the ratio of imports to exports, and what does this imply about trade balance?\n",
    "import_export_ratio = my_sample['Import_Export'].value_counts(normalize=True) * 100\n",
    "print(\"Import to Export Ratio:\\n\", import_export_ratio)"
   ]
  },
  {
   "cell_type": "code",
   "execution_count": 278,
   "id": "f021b968-a5bd-48c4-ae0b-a8d3ba098d6b",
   "metadata": {},
   "outputs": [
    {
     "name": "stdout",
     "output_type": "stream",
     "text": [
      "Total Quantity Traded by Month:\n",
      " Date\n",
      "2019-09    109411\n",
      "2019-10    181576\n",
      "2019-11    102158\n",
      "2019-12    136068\n",
      "2020-01    200384\n",
      "            ...  \n",
      "2024-05    141133\n",
      "2024-06    161833\n",
      "2024-07    171542\n",
      "2024-08    166627\n",
      "2024-09     27602\n",
      "Freq: M, Name: Quantity, Length: 61, dtype: int64\n"
     ]
    }
   ],
   "source": [
    "# C39. How does the total quantity traded vary by month?\n",
    "monthly_quantity_traded = my_sample.groupby(my_sample['Date'].dt.to_period('M'))['Quantity'].sum()\n",
    "print(\"Total Quantity Traded by Month:\\n\", monthly_quantity_traded)"
   ]
  },
  {
   "cell_type": "code",
   "execution_count": 279,
   "id": "45543490-a4d8-44e9-a77b-09c24431c9f5",
   "metadata": {},
   "outputs": [
    {
     "name": "stdout",
     "output_type": "stream",
     "text": [
      "Cumulative Value of Transactions by Month:\n",
      " Date\n",
      "2019-09      104308.56\n",
      "2019-10      289903.60\n",
      "2019-11      461575.37\n",
      "2019-12      570428.26\n",
      "2020-01      776724.40\n",
      "              ...     \n",
      "2024-05     9814121.34\n",
      "2024-06     9969128.89\n",
      "2024-07    10125285.16\n",
      "2024-08    10284394.03\n",
      "2024-09    10302351.65\n",
      "Freq: M, Name: Value, Length: 61, dtype: float64\n"
     ]
    }
   ],
   "source": [
    "# C40. What is the cumulative value of transactions by month, and how does it trend over time?\n",
    "monthly_cumulative_value = my_sample.groupby(my_sample['Date'].dt.to_period('M'))['Value'].sum().cumsum()\n",
    "print(\"Cumulative Value of Transactions by Month:\\n\", monthly_cumulative_value)"
   ]
  },
  {
   "cell_type": "code",
   "execution_count": 280,
   "id": "7154f7ef-d90f-4044-84d7-bed00bd83287",
   "metadata": {},
   "outputs": [
    {
     "name": "stdout",
     "output_type": "stream",
     "text": [
      "Number of Outliers in Transaction Values: 0\n"
     ]
    }
   ],
   "source": [
    "# C41. Are there outliers in transaction values that could indicate anomalies?\n",
    "q1 = my_sample['Value'].quantile(0.25)\n",
    "q3 = my_sample['Value'].quantile(0.75)\n",
    "iqr = q3 - q1\n",
    "outliers = my_sample[(my_sample['Value'] < (q1 - 1.5 * iqr)) | (my_sample['Value'] > (q3 + 1.5 * iqr))]\n",
    "print(f\"Number of Outliers in Transaction Values: {outliers.shape[0]}\")"
   ]
  },
  {
   "cell_type": "code",
   "execution_count": 281,
   "id": "0e53ab44-853c-451b-9a1c-5ae7793a4390",
   "metadata": {},
   "outputs": [
    {
     "name": "stdout",
     "output_type": "stream",
     "text": [
      "Bottom 10 Transactions by Value:\n",
      "                              Transaction_ID                      Country  \\\n",
      "2856   2cd395eb-c290-4413-9cb2-c15cf5232a0c  French Southern Territories   \n",
      "10861  e48acb0e-9590-4c5a-930c-6d437526a7a4                        Korea   \n",
      "14401  b5e89741-b8db-409c-9c14-2fb8ab18d80d                       Jordan   \n",
      "4440   0bde3249-cd06-43c9-9149-fe6377f141cd                        Ghana   \n",
      "1426   42c07c7e-f740-4ba2-8688-4eed2034663b                    Mauritius   \n",
      "11080  7d179e18-3074-4cbb-b038-617ae83274c4                      Namibia   \n",
      "13034  67f15419-e728-48fc-a56a-fed06df10e46                       Gambia   \n",
      "6211   0f0e6955-9775-4eaf-aac4-559668c44e05                     Guernsey   \n",
      "3353   146068ab-e01c-489d-b176-0ea02498d554                     Portugal   \n",
      "4039   b5c7dfc6-4af5-4df3-9148-867a65698eaa           Russian Federation   \n",
      "\n",
      "         Product Import_Export  Quantity   Value        Date   Category  \\\n",
      "2856        idea        Import       224  102.12  12-03-2021   Clothing   \n",
      "10861      green        Import      2278  102.87  12-03-2020   Clothing   \n",
      "14401      three        Export       908  103.03  21-12-2021  Machinery   \n",
      "4440       stand        Export      5062  103.29  05-11-2022  Machinery   \n",
      "1426       worry        Export      7411  104.49  13-04-2021       Toys   \n",
      "11080    certain        Export      8522  106.15  23-02-2020  Machinery   \n",
      "13034  important        Import      4811  106.83  22-11-2020       Toys   \n",
      "6211        soon        Import      9941  106.98  08-02-2022       Toys   \n",
      "3353        mean        Import      2390  108.10  14-04-2022  Furniture   \n",
      "4039       price        Export      2185  109.90  19-02-2021       Toys   \n",
      "\n",
      "                   Port  Customs_Code   Weight Shipping_Method  \\\n",
      "2856        Brendaville        960981  1544.57            Land   \n",
      "10861         Meyerbury        862508  1145.82             Sea   \n",
      "14401        Smithburgh        729381  2683.59            Land   \n",
      "4440       New Loriside        687032  4969.12             Air   \n",
      "1426       Natashamouth        325132  2118.87             Sea   \n",
      "11080  South Alfredfort        912562  4056.88             Sea   \n",
      "13034    Port Tanyaport        766169  2785.53             Sea   \n",
      "6211        Lake Meghan        578744  1784.38             Air   \n",
      "3353         Barnesberg        815837  1187.88            Land   \n",
      "4039         Robertfort        185849  1876.94            Land   \n",
      "\n",
      "                           Supplier             Customer  Invoice_Number  \\\n",
      "2856       Shannon, Tate and Morris           John Blake         8162647   \n",
      "10861                 Walter-Parker      Christopher Lee        98209165   \n",
      "14401      Thomas, Wilson and Boyle     Stephanie Oliver        10667555   \n",
      "4440   Daugherty, Roy and Rodriguez       Gabriel Waters        88721260   \n",
      "1426                  Morris-Nguyen        Sharon Garcia        46841949   \n",
      "11080               Walters-Donovan     Brittany Everett        70371600   \n",
      "13034   Harris, Wheeler and Simmons         Devin Golden        97880233   \n",
      "6211        Orr, Conrad and Collier        Steven Cherry        47109506   \n",
      "3353     Moore, Anderson and Becker        Jason Stewart        58554043   \n",
      "4039     Pena, Robinson and Holland  Mr. Steven Thompson        99966094   \n",
      "\n",
      "          Payment_Terms  \n",
      "2856             Net 30  \n",
      "10861           Prepaid  \n",
      "14401  Cash on Delivery  \n",
      "4440             Net 30  \n",
      "1426             Net 30  \n",
      "11080           Prepaid  \n",
      "13034            Net 60  \n",
      "6211            Prepaid  \n",
      "3353             Net 60  \n",
      "4039            Prepaid  \n"
     ]
    }
   ],
   "source": [
    "# C42. Which transactions have the lowest value? (Bottom 10 transactions by value)\n",
    "# Get the bottom 10 transactions by value\n",
    "lowest_value_transactions = df.nsmallest(10, 'Value')\n",
    "print(\"Bottom 10 Transactions by Value:\\n\", lowest_value_transactions)"
   ]
  },
  {
   "cell_type": "code",
   "execution_count": 282,
   "id": "87fdacd4-8a72-441c-a1b1-fcef2fd2a649",
   "metadata": {},
   "outputs": [
    {
     "name": "stdout",
     "output_type": "stream",
     "text": [
      "Mode of Product Categories: data\n"
     ]
    }
   ],
   "source": [
    "# C43. Mode of the product categories across all transactions\n",
    "mode_category = my_sample['Product'].mode()[0]\n",
    "print(f\"Mode of Product Categories: {mode_category}\")"
   ]
  },
  {
   "cell_type": "code",
   "execution_count": 283,
   "id": "1b3c0f5c-28fe-43cc-847b-625fec153490",
   "metadata": {},
   "outputs": [
    {
     "name": "stdout",
     "output_type": "stream",
     "text": [
      "Percentage of Total Transactions by Top 5 Countries: 4.00%\n"
     ]
    }
   ],
   "source": [
    "# C44. Percentage of total transactions represented by the top five countries\n",
    "country_counts = my_sample['Country'].value_counts()\n",
    "top_5_countries = country_counts.head(5)\n",
    "top_5_percentage = top_5_countries.sum() / my_sample.shape[0] * 100\n",
    "print(f\"Percentage of Total Transactions by Top 5 Countries: {top_5_percentage:.2f}%\")"
   ]
  },
  {
   "cell_type": "code",
   "execution_count": 284,
   "id": "3718f878-ae1c-4fca-949e-f1199cbe28b8",
   "metadata": {},
   "outputs": [
    {
     "name": "stdout",
     "output_type": "stream",
     "text": [
      "Mean Transaction Value by Payment Terms:\n",
      "Payment_Terms\n",
      "Cash on Delivery    5029.504618\n",
      "Net 30              5212.065513\n",
      "Net 60              5154.258957\n",
      "Prepaid             5203.627588\n",
      "Name: Value, dtype: float64\n",
      "Difference in Mean Transaction Value: Payment_Terms\n",
      "Net 30     182.560894\n",
      "Net 60     -57.806556\n",
      "Prepaid     49.368631\n",
      "Name: Value, dtype: float64\n"
     ]
    }
   ],
   "source": [
    "# C45. Significant difference in the mean transaction value between two payment terms\n",
    "payment_terms_group = my_sample.groupby('Payment_Terms')['Value'].mean()\n",
    "payment_terms_diff = payment_terms_group.diff().dropna()\n",
    "print(\"Mean Transaction Value by Payment Terms:\")\n",
    "print(payment_terms_group)\n",
    "print(f\"Difference in Mean Transaction Value: {payment_terms_diff}\")"
   ]
  },
  {
   "cell_type": "code",
   "execution_count": 285,
   "id": "3d71b807-24b6-4043-9af1-ade7e8f3c420",
   "metadata": {},
   "outputs": [
    {
     "name": "stdout",
     "output_type": "stream",
     "text": [
      "Total Weight by Shipping Method:\n",
      "Shipping_Method\n",
      "Air     1673399.21\n",
      "Land    1689427.66\n",
      "Sea     1656065.33\n",
      "Name: Weight, dtype: float64\n"
     ]
    }
   ],
   "source": [
    "# C46. Total weight of transactions by shipping method\n",
    "weight_by_shipping = my_sample.groupby('Shipping_Method')['Weight'].sum()\n",
    "print(\"Total Weight by Shipping Method:\")\n",
    "print(weight_by_shipping)"
   ]
  },
  {
   "cell_type": "code",
   "execution_count": 286,
   "id": "f6f9a038-4ad7-4593-9fb8-436a48c25647",
   "metadata": {},
   "outputs": [
    {
     "name": "stdout",
     "output_type": "stream",
     "text": [
      "Top 5 Products with Highest Average Transaction Value:\n",
      "Product\n",
      "kitchen    9995.06\n",
      "wrong      9958.66\n",
      "almost     9948.41\n",
      "argue      9931.32\n",
      "job        9892.22\n",
      "Name: Value, dtype: float64\n"
     ]
    }
   ],
   "source": [
    "# C47. Which are the bottom 5 products by quantity sold?\n",
    "average_transaction_value = my_sample.groupby('Product')['Value'].mean()\n",
    "top_5_products = average_transaction_value.nlargest(5)\n",
    "print(\"Top 5 Products with Highest Average Transaction Value:\")\n",
    "print(top_5_products)"
   ]
  },
  {
   "cell_type": "code",
   "execution_count": 287,
   "id": "d0c6fdb7-2188-4e08-951a-9e9c3914362e",
   "metadata": {},
   "outputs": [
    {
     "name": "stdout",
     "output_type": "stream",
     "text": [
      "Total Transaction Value by Country:\n",
      "Country\n",
      "Afghanistan          47735.88\n",
      "Albania              37549.00\n",
      "Algeria              29988.77\n",
      "American Samoa       47103.09\n",
      "Andorra              43191.10\n",
      "                       ...   \n",
      "Wallis and Futuna    29907.29\n",
      "Western Sahara       30129.45\n",
      "Yemen                64711.80\n",
      "Zambia               48268.92\n",
      "Zimbabwe             47983.02\n",
      "Name: Value, Length: 243, dtype: float64\n",
      "Overall Total Transaction Value: 10302351.65\n"
     ]
    }
   ],
   "source": [
    "# C48. Total transaction value for each country and comparison with the overall total\n",
    "total_by_country = my_sample.groupby('Country')['Value'].sum()\n",
    "overall_total = my_sample['Value'].sum()\n",
    "print(\"Total Transaction Value by Country:\")\n",
    "print(total_by_country)\n",
    "print(f\"Overall Total Transaction Value: {overall_total}\")"
   ]
  },
  {
   "cell_type": "code",
   "execution_count": 288,
   "id": "6b45363d-eeab-4510-ae05-36c58a66b35c",
   "metadata": {},
   "outputs": [
    {
     "name": "stdout",
     "output_type": "stream",
     "text": [
      "Last 5 Transactions with Smallest Weight:\n",
      "                             Transaction_ID                   Country  \\\n",
      "12982  d8da3efc-db9e-4643-a06d-882d6a5c623e               El Salvador   \n",
      "7391   4886e5e5-f319-48b0-a075-21307fd30718                Martinique   \n",
      "2427   55b3d2a2-c75b-4900-911f-eb6ef979918a  Northern Mariana Islands   \n",
      "12652  fc91a20c-83ad-4b79-b3e1-3612c87437a1                     Samoa   \n",
      "4690   61718776-be66-4032-87f6-1f43057ed87b                     Haiti   \n",
      "\n",
      "            Product Import_Export  Quantity    Value       Date   Category  \\\n",
      "12982           out        Import      9369   686.57 2024-06-14       Toys   \n",
      "7391             by        Export       350  1416.36 2022-11-09  Machinery   \n",
      "2427       discover        Import      9750  3461.57 2021-02-16       Toys   \n",
      "12652         issue        Import      1057  2186.56 2020-07-18  Machinery   \n",
      "4690   particularly        Export      6859  3215.63 2023-11-08  Furniture   \n",
      "\n",
      "                   Port  Customs_Code  Weight Shipping_Method  \\\n",
      "12982   Port Laurieport        688644    2.80             Air   \n",
      "7391     Port Frederick        233870    7.60            Land   \n",
      "2427   North Brendanton        493479    7.76            Land   \n",
      "12652     New Maryshire        242030    9.46             Sea   \n",
      "4690    Lake Brianburgh        208519   14.81            Land   \n",
      "\n",
      "                       Supplier          Customer  Invoice_Number  \\\n",
      "12982              Davis-Hooper    Jonathan Joyce        95378918   \n",
      "7391                 Fisher LLC   Emily Jefferson        64149898   \n",
      "2427   Krause, Harris and Young     Sherri Stuart        75369652   \n",
      "12652            Anderson-Sharp  Catherine Wright        18652694   \n",
      "4690                Norman-King   Stephanie Smith         3258832   \n",
      "\n",
      "      Payment_Terms  Profit_Margin  \n",
      "12982       Prepaid       0.073281  \n",
      "7391         Net 60       4.046743  \n",
      "2427         Net 60       0.355033  \n",
      "12652        Net 60       2.068647  \n",
      "4690        Prepaid       0.468819  \n"
     ]
    }
   ],
   "source": [
    "# C49. Last 5 transactions with the smallest weight\n",
    "smallest_5_weight = my_sample.nsmallest(5, 'Weight')\n",
    "print(\"Last 5 Transactions with Smallest Weight:\")\n",
    "print(smallest_5_weight)"
   ]
  },
  {
   "cell_type": "code",
   "execution_count": 289,
   "id": "44acfc53-872d-4b47-97b6-b6c4f5496c75",
   "metadata": {},
   "outputs": [
    {
     "name": "stdout",
     "output_type": "stream",
     "text": [
      "Top 5 Products with Highest Average Transaction Value:\n",
      "Product\n",
      "kitchen    9995.06\n",
      "wrong      9958.66\n",
      "almost     9948.41\n",
      "argue      9931.32\n",
      "job        9892.22\n",
      "Name: Value, dtype: float64\n"
     ]
    }
   ],
   "source": [
    "# C50. Top 5 products with the highest average transaction value\n",
    "average_transaction_value = my_sample.groupby('Product')['Value'].mean()\n",
    "top_5_products = average_transaction_value.nlargest(5)\n",
    "print(\"Top 5 Products with Highest Average Transaction Value:\")\n",
    "print(top_5_products)"
   ]
  },
  {
   "cell_type": "code",
   "execution_count": 290,
   "id": "b735d1b0-ac08-480f-b3b2-f94150584e79",
   "metadata": {},
   "outputs": [
    {
     "name": "stdout",
     "output_type": "stream",
     "text": [
      "Exports - Mean: 5049.51, Median: 4950.09, Mode: 9534.2\n",
      "Imports - Mean: 5244.67, Median: 5378.69, Mode: 5529.5\n"
     ]
    }
   ],
   "source": [
    "# D1. What is the mean, median, and mode of transaction values (Value column) for exports and imports?\n",
    "# Separate exports and imports\n",
    "exports = my_sample[my_sample['Import_Export'] == 'Export']['Value']\n",
    "imports = my_sample[my_sample['Import_Export'] == 'Import']['Value']\n",
    "\n",
    "# Calculate mean, median, and mode for exports\n",
    "mean_export = exports.mean()\n",
    "median_export = exports.median()\n",
    "mode_export = stats.mode(exports)[0]\n",
    "\n",
    "# Calculate mean, median, and mode for imports\n",
    "mean_import = imports.mean()\n",
    "median_import = imports.median()\n",
    "mode_import = stats.mode(imports)[0]\n",
    "\n",
    "# Print results\n",
    "print(f\"Exports - Mean: {mean_export:.2f}, Median: {median_export:.2f}, Mode: {mode_export}\")\n",
    "print(f\"Imports - Mean: {mean_import:.2f}, Median: {median_import:.2f}, Mode: {mode_import}\")"
   ]
  },
  {
   "cell_type": "code",
   "execution_count": 291,
   "id": "2963945e-9ef6-441c-ba32-79ff365417d1",
   "metadata": {},
   "outputs": [],
   "source": [
    "# Analysis\n",
    "# The mean and median values for both exports and imports are relatively close, suggesting a somewhat consistent pattern in transaction values with slight skewness.\n",
    "# The mode for exports is substantially higher than the central tendency measures (mean and median), implying occasional higher export transactions, while imports show more stability with the mode close to its central tendencies."
   ]
  },
  {
   "cell_type": "code",
   "execution_count": 292,
   "id": "1b8e4a45-ecc7-415d-8278-e6691175e3ce",
   "metadata": {},
   "outputs": [
    {
     "name": "stdout",
     "output_type": "stream",
     "text": [
      "Maximum Import Quantity: 9987\n",
      "Minimum Import Quantity: 3\n",
      "Maximum Export Quantity: 9989\n",
      "Minimum Export Quantity: 19\n"
     ]
    }
   ],
   "source": [
    "# D2. What is the maximum and minimum quantity of products imported and exported?          \n",
    "# Separate imports and exports\n",
    "imports = my_sample[my_sample['Import_Export'] == 'Import']\n",
    "exports = my_sample[my_sample['Import_Export'] == 'Export']\n",
    "\n",
    "# Calculate maximum and minimum quantities for imports and exports\n",
    "max_import_quantity = imports['Quantity'].max()\n",
    "min_import_quantity = imports['Quantity'].min()\n",
    "max_export_quantity = exports['Quantity'].max()\n",
    "min_export_quantity = exports['Quantity'].min()\n",
    "\n",
    "# Print results\n",
    "print(f\"Maximum Import Quantity: {max_import_quantity}\")\n",
    "print(f\"Minimum Import Quantity: {min_import_quantity}\")\n",
    "print(f\"Maximum Export Quantity: {max_export_quantity}\")\n",
    "print(f\"Minimum Export Quantity: {min_export_quantity}\")"
   ]
  },
  {
   "cell_type": "code",
   "execution_count": 293,
   "id": "34ac7b0b-583e-48ce-909e-fe88e7772fb7",
   "metadata": {},
   "outputs": [],
   "source": [
    "# Analysis\n",
    "# Maximum Quantities: The maximum quantities for imports and exports are nearly identical, indicating that both sides of trade can involve transactions of substantial size.\n",
    "# Minimum Quantities: The minimum quantity for imports is much smaller (3 units) than that for exports (19 units). This could suggest that imports are more varied, accommodating both very small and very large transactions, whereas exports tend to have a higher floor in terms of transaction size."
   ]
  },
  {
   "cell_type": "code",
   "execution_count": 294,
   "id": "8baf19ef-4d45-469e-81f3-59f04bfb715c",
   "metadata": {},
   "outputs": [
    {
     "name": "stdout",
     "output_type": "stream",
     "text": [
      "Percentiles for Imports:\n",
      " {'25th Percentile': 1230.13, '50th Percentile (Median)': 2621.48, '75th Percentile': 3842.625}\n",
      "\n",
      "Percentiles for Exports:\n",
      " {'25th Percentile': 1222.57, '50th Percentile (Median)': 2488.28, '75th Percentile': 3628.61}\n"
     ]
    }
   ],
   "source": [
    "# D3. What is the 25th, 50th, and 75th percentile of product weights in imports and exports?\n",
    "# Separate imports and exports\n",
    "imports = my_sample[my_sample['Import_Export'] == 'Import']['Weight']\n",
    "exports = my_sample[my_sample['Import_Export'] == 'Export']['Weight']\n",
    "\n",
    "# Calculate percentiles for imports\n",
    "percentiles_imports = {\n",
    "    '25th Percentile': imports.quantile(0.25),\n",
    "    '50th Percentile (Median)': imports.quantile(0.50),\n",
    "    '75th Percentile': imports.quantile(0.75)\n",
    "}\n",
    "\n",
    "# Calculate percentiles for exports\n",
    "percentiles_exports = {\n",
    "    '25th Percentile': exports.quantile(0.25),\n",
    "    '50th Percentile (Median)': exports.quantile(0.50),\n",
    "    '75th Percentile': exports.quantile(0.75)\n",
    "}\n",
    "\n",
    "# Print results\n",
    "print(\"Percentiles for Imports:\\n\", percentiles_imports)\n",
    "print(\"\\nPercentiles for Exports:\\n\", percentiles_exports)"
   ]
  },
  {
   "cell_type": "code",
   "execution_count": 295,
   "id": "1cdaa82c-7dc2-42e0-b634-6cd92d27f6c7",
   "metadata": {},
   "outputs": [],
   "source": [
    "# Analysis\n",
    "# Both imports and exports have similar distributions at the lower end (25th percentile), meaning small-to-moderate transactions are quite common for both.\n",
    "# Imports tend to have slightly higher median and 75th percentile values compared to exports, indicating that imports might involve larger quantities overall.\n",
    "# The data suggests that the trade flow is more varied for imports, with a slightly larger spread between the lower and upper transaction sizes. Exports tend to have a more concentrated distribution, with fewer extremely small or extremely large transactions."
   ]
  },
  {
   "cell_type": "code",
   "execution_count": 296,
   "id": "c74d2b00-a60d-4ebb-ad34-e4a8671584d3",
   "metadata": {},
   "outputs": [
    {
     "name": "stdout",
     "output_type": "stream",
     "text": [
      "Mode of Product Categories:\n",
      " 0    Machinery\n",
      "Name: Category, dtype: object\n"
     ]
    }
   ],
   "source": [
    "# D4. What is the mode of the product categories across all transactions?     \n",
    "# Calculate the mode of the product categories\n",
    "mode_product_category = my_sample['Category'].mode()\n",
    "print(\"Mode of Product Categories:\\n\", mode_product_category)"
   ]
  },
  {
   "cell_type": "code",
   "execution_count": 297,
   "id": "11988569-b9fe-4ef3-9f7b-fbf97d44dc52",
   "metadata": {},
   "outputs": [],
   "source": [
    "# Analysis\n",
    "# The prominence of Machinery as the mode indicates that machinery-related transactions are the most common in both imports and exports.\n",
    "# The dominance of the machinery category suggests that it plays a critical role in the overall trade patterns, potentially contributing significantly to the volume of both imports and exports."
   ]
  },
  {
   "cell_type": "code",
   "execution_count": 298,
   "id": "5be0f1e0-4325-489a-9468-ab08c8519e17",
   "metadata": {},
   "outputs": [
    {
     "name": "stdout",
     "output_type": "stream",
     "text": [
      "Imports - Range: 9984, Standard Deviation: 2826.03\n",
      "Exports - Range: 9970, Standard Deviation: 2850.79\n"
     ]
    }
   ],
   "source": [
    "# D5. What is the range and standard deviation of the quantity of goods exported versus imported?\n",
    "# Separate imports and exports\n",
    "imports = my_sample[my_sample['Import_Export'] == 'Import']['Quantity']\n",
    "exports = my_sample[my_sample['Import_Export'] == 'Export']['Quantity']\n",
    "\n",
    "# Calculate range and standard deviation for imports\n",
    "range_imports = imports.max() - imports.min()\n",
    "std_dev_imports = imports.std()\n",
    "\n",
    "# Calculate range and standard deviation for exports\n",
    "range_exports = exports.max() - exports.min()\n",
    "std_dev_exports = exports.std()\n",
    "\n",
    "# Print results\n",
    "print(f\"Imports - Range: {range_imports}, Standard Deviation: {std_dev_imports:.2f}\")\n",
    "print(f\"Exports - Range: {range_exports}, Standard Deviation: {std_dev_exports:.2f}\")"
   ]
  },
  {
   "cell_type": "code",
   "execution_count": 299,
   "id": "bddb425d-bd74-4134-acb4-ac6876db0038",
   "metadata": {},
   "outputs": [],
   "source": [
    "# Analysis\n",
    "# Both imports and exports exhibit very large ranges and high standard deviations, indicating significant variability in the quantities of goods being traded.\n",
    "# Although the range for imports is marginally larger, exports have a slightly higher standard deviation, suggesting that export transactions might fluctuate more widely around their mean compared to imports."
   ]
  },
  {
   "cell_type": "code",
   "execution_count": 300,
   "id": "40079c3c-a6ca-44d5-821e-477a86737724",
   "metadata": {},
   "outputs": [
    {
     "name": "stdout",
     "output_type": "stream",
     "text": [
      "Skewness of Export Transaction Values: 0.0087\n",
      "Kurtosis of Export Transaction Values: -1.1600\n"
     ]
    }
   ],
   "source": [
    "# D6. What is the skewness and kurtosis of transaction values for exports?\n",
    "# Separate exports\n",
    "exports = my_sample[my_sample['Import_Export'] == 'Export']['Value']\n",
    "\n",
    "# Calculate skewness and kurtosis\n",
    "skewness = skew(exports)\n",
    "kurtosis_value = kurtosis(exports)\n",
    "\n",
    "# Print results\n",
    "print(f\"Skewness of Export Transaction Values: {skewness:.4f}\")\n",
    "print(f\"Kurtosis of Export Transaction Values: {kurtosis_value:.4f}\")"
   ]
  },
  {
   "cell_type": "code",
   "execution_count": 301,
   "id": "d777a477-cc52-4035-8bbf-9d5ea10dfd35",
   "metadata": {},
   "outputs": [],
   "source": [
    "# Analysis\n",
    "# The near-zero skewness implies that export transaction values are fairly evenly distributed without strong asymmetry.\n",
    "# The negative kurtosis indicates that export transactions tend to cluster around the mean, with fewer extreme outliers. The distribution is flatter, suggesting less variability in terms of large deviations from the average export value."
   ]
  },
  {
   "cell_type": "code",
   "execution_count": 302,
   "id": "97194010-1dfb-43b6-9c02-905f4e9987bf",
   "metadata": {},
   "outputs": [
    {
     "name": "stdout",
     "output_type": "stream",
     "text": [
      "95% Confidence Interval for the Mean Value of Exports: (4870.523666283431, 5228.494851483066)\n"
     ]
    }
   ],
   "source": [
    "# D7. What is the 95% confidence interval for the mean value of exports?\n",
    "# Separate exports\n",
    "exports = my_sample[my_sample['Import_Export'] == 'Export']['Value']\n",
    "# Calculate mean and standard error\n",
    "mean_export = exports.mean()\n",
    "std_dev_export = exports.std()\n",
    "n = exports.count()  # Sample size\n",
    "# Calculate the 95% confidence interval\n",
    "confidence_level = 0.95\n",
    "degrees_freedom = n - 1\n",
    "confidence_interval = stats.t.interval(confidence_level, degrees_freedom, mean_export, std_dev_export / np.sqrt(n))\n",
    "print(f\"95% Confidence Interval for the Mean Value of Exports: {confidence_interval}\")"
   ]
  },
  {
   "cell_type": "code",
   "execution_count": 303,
   "id": "a5915929-ac0c-4abe-b06d-cdf06fdd944d",
   "metadata": {},
   "outputs": [],
   "source": [
    "# Analysis\n",
    "# The interval is not too wide, suggesting that the estimate is reliable and that there is relatively low uncertainty regarding the true mean of export values."
   ]
  },
  {
   "cell_type": "code",
   "execution_count": 304,
   "id": "989348d5-91f4-4f0c-9ed2-3cdb51be5ef6",
   "metadata": {},
   "outputs": [
    {
     "name": "stdout",
     "output_type": "stream",
     "text": [
      "T-statistic: 0.9730271771782915\n",
      "P-value: 0.33076980759713914\n",
      "There is no significant difference in the mean transaction value between the two payment terms.\n"
     ]
    }
   ],
   "source": [
    "# D8. Is there a significant difference in the mean transaction value between two different payment terms (e.g., \"Prepaid\" and \"Cash on Delivery\") using a t-test?\n",
    "# Split the data based on payment terms\n",
    "prepaid_values = my_sample[my_sample['Payment_Terms'] == 'Prepaid']['Value']\n",
    "cod_values = my_sample[my_sample['Payment_Terms'] == 'Cash on Delivery']['Value']\n",
    "# Perform t-test\n",
    "t_statistic, p_value = stats.ttest_ind(prepaid_values, cod_values)\n",
    "# Print the results\n",
    "print(f\"T-statistic: {t_statistic}\")\n",
    "print(f\"P-value: {p_value}\")\n",
    "# Determine significance\n",
    "alpha = 0.05\n",
    "if p_value < alpha:\n",
    "    print(\"There is a significant difference in the mean transaction value between the two payment terms.\")\n",
    "else:\n",
    "    print(\"There is no significant difference in the mean transaction value between the two payment terms.\")"
   ]
  },
  {
   "cell_type": "code",
   "execution_count": 305,
   "id": "a3c0ddca-c334-4147-98c8-7a4e7dd39709",
   "metadata": {},
   "outputs": [],
   "source": [
    "# Analysis\n",
    "# Since the p-value (0.3308) is greater than 0.05, we fail to reject the null hypothesis, meaning there is no significant difference in the mean transaction values between the \"Prepaid\" and \"Cash on Delivery\" payment terms.\n",
    "# The results indicate that the choice of payment terms (\"Prepaid\" vs. \"Cash on Delivery\") does not lead to a statistically meaningful difference in the average transaction value. From a business or operational perspective, this suggests that transaction sizes are relatively consistent across these two payment methods."
   ]
  },
  {
   "cell_type": "code",
   "execution_count": 306,
   "id": "082784e4-9a4d-48d6-8027-a4b41437929d",
   "metadata": {},
   "outputs": [
    {
     "name": "stdout",
     "output_type": "stream",
     "text": [
      "Levene's test statistic: 3.7278926632788654\n",
      "P-value: 0.0535296910716595\n"
     ]
    }
   ],
   "source": [
    "# D9. Using Levene’s test, is the variance of transaction values for imports and exports statistically equal?\n",
    "# Split the data based on import/export status\n",
    "import_values = df[df['Import_Export'] == 'Import']['Value']\n",
    "export_values = df[df['Import_Export'] == 'Export']['Value']\n",
    "# Perform Levene's test\n",
    "statistic, p_value = stats.levene(import_values, export_values)\n",
    "# Print the results\n",
    "print(f\"Levene's test statistic: {statistic}\")\n",
    "print(f\"P-value: {p_value}\")\n",
    "# Determine significance\n",
    "alpha = 0.05\n",
    "if p_value < alpha:\n",
    "    print(\"The variance of transaction values for imports and exports is statistically different.\")"
   ]
  },
  {
   "cell_type": "code",
   "execution_count": 307,
   "id": "ac8fa28f-905a-4d5e-840c-4857fbe9c090",
   "metadata": {},
   "outputs": [],
   "source": [
    "# Analysis\n",
    "# The transaction values for both imports and exports show a similar level of variability, indicating that the spread or dispersion of the transaction values is comparable across both trade categories. This can suggest that fluctuations in transaction size are consistent whether for imports or exports."
   ]
  },
  {
   "cell_type": "code",
   "execution_count": 308,
   "id": "613b99d0-813c-4ea9-a645-65cc6e1cba0d",
   "metadata": {},
   "outputs": [
    {
     "name": "stdout",
     "output_type": "stream",
     "text": [
      "Pearson correlation coefficient: 0.0371\n",
      "P-value: 0.2443\n",
      "There is no significant correlation between weight and value of exported products.\n"
     ]
    }
   ],
   "source": [
    "# D10.Using the Pearson correlation test, is there a significant correlation between the weight and value of exported products?\n",
    "# Filter the data for exports\n",
    "export_data = my_sample[my_sample['Import_Export'] == 'Export']\n",
    "# Perform Pearson correlation test\n",
    "correlation, p_value = stats.pearsonr(export_data['Weight'], export_data['Value'])\n",
    "# Print the results\n",
    "print(f\"Pearson correlation coefficient: {correlation:.4f}\")\n",
    "print(f\"P-value: {p_value:.4f}\")\n",
    "# Determine significance\n",
    "alpha = 0.05\n",
    "if p_value < alpha:\n",
    "    print(\"There is a significant correlation between weight and value of exported products.\")\n",
    "else:\n",
    "    print(\"There is no significant correlation between weight and value of exported products.\")"
   ]
  },
  {
   "cell_type": "code",
   "execution_count": 309,
   "id": "5ef8d76d-5925-4117-a2e3-d79b45809a04",
   "metadata": {},
   "outputs": [],
   "source": [
    "# Analysis\n",
    "# The weak correlation coefficient and non-significant p-value suggest that weight does not have a strong influence on the value of exported products. This could imply that factors other than weight, such as product type, quality, or market conditions, play a more significant role in determining the value of exports."
   ]
  },
  {
   "cell_type": "code",
   "execution_count": 310,
   "id": "5939d153-c973-4697-902b-b569bd5277aa",
   "metadata": {},
   "outputs": [
    {
     "name": "stdout",
     "output_type": "stream",
     "text": [
      "Shapiro-Wilk test statistic: 0.9557, P-value: 0.0000\n",
      "Kolmogorov-Smirnov test statistic: 0.0674, P-value: 0.0000\n",
      "\n",
      "Results:\n",
      "Shapiro-Wilk test: The distribution is not normal.\n",
      "Kolmogorov-Smirnov test: The distribution is not normal.\n"
     ]
    }
   ],
   "source": [
    "# D11. Does the distribution of transaction values follow a normal distribution using the Shapiro-Wilk or Kolmogorov-Smirnov test?\n",
    "# Extract the transaction values\n",
    "transaction_values = my_sample['Value']\n",
    "# Perform Shapiro-Wilk test\n",
    "shapiro_stat, shapiro_p = stats.shapiro(transaction_values)\n",
    "print(f\"Shapiro-Wilk test statistic: {shapiro_stat:.4f}, P-value: {shapiro_p:.4f}\")\n",
    "# Perform Kolmogorov-Smirnov test against a normal distribution\n",
    "# Note: To perform KS test, we need to specify the mean and std deviation\n",
    "mean = transaction_values.mean()\n",
    "std = transaction_values.std()\n",
    "ks_stat, ks_p = stats.kstest(transaction_values, 'norm', args=(mean, std))\n",
    "print(f\"Kolmogorov-Smirnov test statistic: {ks_stat:.4f}, P-value: {ks_p:.4f}\")\n",
    "# Determine significance for both tests\n",
    "alpha = 0.05\n",
    "print(\"\\nResults:\")\n",
    "if shapiro_p < alpha:\n",
    "    print(\"Shapiro-Wilk test: The distribution is not normal.\")\n",
    "else:\n",
    "    print(\"Shapiro-Wilk test: The distribution is normal.\")\n",
    "\n",
    "if ks_p < alpha:\n",
    "    print(\"Kolmogorov-Smirnov test: The distribution is not normal.\")\n",
    "else:\n",
    "    print(\"Kolmogorov-Smirnov test: The distribution is normal.\")"
   ]
  },
  {
   "cell_type": "code",
   "execution_count": 311,
   "id": "8953e79d-79d0-49a1-9325-8ec578672f14",
   "metadata": {},
   "outputs": [],
   "source": [
    "# Analysis\n",
    "# Both tests suggest that the distribution of transaction values is not normal.\n",
    "# Implications: The findings indicate that the transaction values may be skewed or exhibit other characteristics such as heavy tails or a non-standard shape. This could affect any statistical analyses that assume normality, such as t-tests or ANOVA. Understanding the actual distribution can be crucial for making informed decisions regarding the data and for choosing appropriate statistical methods for further analysis."
   ]
  },
  {
   "cell_type": "code",
   "execution_count": 312,
   "id": "2dc7352a-7559-4155-add2-d7f8bebf8ea3",
   "metadata": {},
   "outputs": [
    {
     "name": "stdout",
     "output_type": "stream",
     "text": [
      "Chi-squared Statistic: 16.1534\n",
      "P-value: 0.0130\n",
      "Degrees of Freedom: 6\n",
      "Expected Frequencies:\n",
      "[[165.48125937 151.55622189 164.50974513 166.45277361]\n",
      " [172.88705647 158.33883058 171.87206397 173.90204898]\n",
      " [172.63168416 158.10494753 171.6181909  173.64517741]]\n",
      "There is a significant association between shipping method and payment terms.\n"
     ]
    }
   ],
   "source": [
    "# D12. Is there a significant association between the shipping method and payment terms using a Chi-squared test of independence?\n",
    "# Create a contingency table\n",
    "contingency_table = pd.crosstab(my_sample['Shipping_Method'], my_sample['Payment_Terms'])\n",
    "# Perform Chi-squared test\n",
    "chi2_stat, p_value, dof, expected = chi2_contingency(contingency_table)\n",
    "# Print the results\n",
    "print(f\"Chi-squared Statistic: {chi2_stat:.4f}\")\n",
    "print(f\"P-value: {p_value:.4f}\")\n",
    "print(f\"Degrees of Freedom: {dof}\")\n",
    "print(f\"Expected Frequencies:\\n{expected}\")\n",
    "# Determine significance\n",
    "alpha = 0.05\n",
    "if p_value < alpha:\n",
    "    print(\"There is a significant association between shipping method and payment terms.\")\n",
    "else:\n",
    "    print(\"There is no significant association between shipping method and payment terms.\")"
   ]
  },
  {
   "cell_type": "code",
   "execution_count": 313,
   "id": "b27d45de-56cd-46bb-9d9e-c52ba618395a",
   "metadata": {},
   "outputs": [],
   "source": [
    "# Analysis\n",
    "# The results indicate a significant association between shipping methods and payment terms. This means that the choice of payment terms is likely related to the selected shipping method.\n",
    "# Understanding this association can help businesses tailor their logistics and payment strategies. For example, specific payment terms may be more commonly associated with certain shipping methods, which could influence decision-making in operations and customer service."
   ]
  }
 ],
 "metadata": {
  "kernelspec": {
   "display_name": "Python 3 (ipykernel)",
   "language": "python",
   "name": "python3"
  },
  "language_info": {
   "codemirror_mode": {
    "name": "ipython",
    "version": 3
   },
   "file_extension": ".py",
   "mimetype": "text/x-python",
   "name": "python",
   "nbconvert_exporter": "python",
   "pygments_lexer": "ipython3",
   "version": "3.12.4"
  }
 },
 "nbformat": 4,
 "nbformat_minor": 5
}
